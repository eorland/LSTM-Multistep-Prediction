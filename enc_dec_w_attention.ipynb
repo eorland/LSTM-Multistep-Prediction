{
  "nbformat": 4,
  "nbformat_minor": 0,
  "metadata": {
    "kernelspec": {
      "name": "python3",
      "display_name": "Python 3"
    },
    "language_info": {
      "codemirror_mode": {
        "name": "ipython",
        "version": 3
      },
      "file_extension": ".py",
      "mimetype": "text/x-python",
      "name": "python",
      "nbconvert_exporter": "python",
      "pygments_lexer": "ipython3",
      "version": "3.7.4"
    },
    "colab": {
      "name": "enc_dec_w_attention.ipynb",
      "provenance": [],
      "collapsed_sections": [],
      "include_colab_link": true
    },
    "accelerator": "GPU"
  },
  "cells": [
    {
      "cell_type": "markdown",
      "metadata": {
        "id": "view-in-github",
        "colab_type": "text"
      },
      "source": [
        "<a href=\"https://colab.research.google.com/github/eorland/LSTM-Multistep-Prediction/blob/master/enc_dec_w_attention.ipynb\" target=\"_parent\"><img src=\"https://colab.research.google.com/assets/colab-badge.svg\" alt=\"Open In Colab\"/></a>"
      ]
    },
    {
      "cell_type": "code",
      "metadata": {
        "ExecuteTime": {
          "end_time": "2020-01-22T22:44:13.832760Z",
          "start_time": "2020-01-22T22:44:13.722630Z"
        },
        "id": "8B-ONIu6hxWH",
        "colab_type": "code",
        "outputId": "2dabf5c4-3fc3-45dd-ad19-85ac895c1168",
        "colab": {
          "base_uri": "https://localhost:8080/",
          "height": 52
        }
      },
      "source": [
        "#everything we will import to use later\n",
        "import os\n",
        "import numpy as np\n",
        "import pandas as pd\n",
        "from matplotlib import pyplot as plt\n",
        "from tensorflow.keras.models import model_from_json\n",
        "\n",
        "%matplotlib inline\n",
        "\n",
        "import tensorflow.compat.v1 as tf\n",
        "#from tensorflow import keras\n",
        "from tensorflow.keras import backend as K\n",
        "from tensorflow.keras import Model\n",
        "from tensorflow.keras.layers import *\n",
        "from tensorflow.keras.wrappers.scikit_learn import KerasRegressor\n",
        "from sklearn import preprocessing\n",
        "#from sklearn.model_selection import train_test_split\n",
        "from sklearn.metrics import mean_squared_error\n",
        "#check our version\n",
        "print(tf.VERSION)\n",
        "print(tf.keras.__version__)"
      ],
      "execution_count": 0,
      "outputs": [
        {
          "output_type": "stream",
          "text": [
            "2.2.0-rc4\n",
            "2.3.0-tf\n"
          ],
          "name": "stdout"
        }
      ]
    },
    {
      "cell_type": "code",
      "metadata": {
        "id": "Em6RMwSKigzV",
        "colab_type": "code",
        "outputId": "8acec6d2-d9b4-49c7-f2f7-040a5fcb73ac",
        "colab": {
          "base_uri": "https://localhost:8080/",
          "height": 34
        }
      },
      "source": [
        "device_name = tf.test.gpu_device_name()\n",
        "if device_name != '/device:GPU:0':\n",
        "  raise SystemError('GPU device not found')\n",
        "print('Found GPU at: {}'.format(device_name))"
      ],
      "execution_count": 0,
      "outputs": [
        {
          "output_type": "stream",
          "text": [
            "Found GPU at: /device:GPU:0\n"
          ],
          "name": "stdout"
        }
      ]
    },
    {
      "cell_type": "code",
      "metadata": {
        "ExecuteTime": {
          "end_time": "2020-01-22T22:44:14.097519Z",
          "start_time": "2020-01-22T22:44:14.051319Z"
        },
        "id": "VUuCin7PhxWY",
        "colab_type": "code",
        "colab": {}
      },
      "source": [
        "def rescale(feature_data,test_targets,predictions, scaling_object,index):\n",
        "    '''Flattens and rescales test and prediction data back to the original scale.\n",
        "    Given that the test data and predictions do not have the same shape as the original feature data, we need \n",
        "    to \"pad\" these two datasets with the original column numbers of the feature data, \n",
        "    as well as have the test and prediction data occupy the same positions of their respective \n",
        "    target data columns so the rescale is done properly. \n",
        "    The below code includes one way to correctly do this padding.\n",
        "    \n",
        "    INPUTS: training or test feature data (it doesn't matter--we just need the same number of columns)\n",
        "    test targets, and predictions, all in 3D tensor form. Also, the scaling object used \n",
        "    for the original transformation'''\n",
        "    \n",
        "    #flatten predictions and test data\n",
        "    predict_flat = predictions.reshape(predictions.shape[0]*predictions.shape[1],predictions.shape[2])\n",
        "    y_test_flat = test_targets.reshape(test_targets.shape[0]*test_targets.shape[1],test_targets.shape[2])\n",
        "\n",
        "    #flatten the features dataframe. This has the dimensions we want.\n",
        "    flattened_features = pd.DataFrame(feature_data.reshape(feature_data.shape[0]*feature_data.shape[1],\n",
        "                                                           feature_data.shape[2]))\n",
        "    \n",
        "    #if we want to predict long sequences these will likely be longer than the length of the features.\n",
        "    #we just add some zeros here to pad out the feature length to match. We'll then convert these to NaN's\n",
        "    #so they're ignored. Again, we just want to inherient the\n",
        "    #structure of the feature data--not the values. This is the most foolproof method\n",
        "    #I've found through trial and error.\n",
        "    \n",
        "    if len(flattened_features) < len(y_test_flat):\n",
        "        print('Length of targets exceeds length of features. Now padding...\\n')\n",
        "        extra_rows = pd.DataFrame(np.zeros((len(y_test_flat),flattened_features.shape[1])))\n",
        "        flattened_features = pd.concat([flattened_features,extra_rows],axis=0)\n",
        "        flattened_features[flattened_features==0]=np.nan\n",
        "        \n",
        "    #make a start column, this is the index where we begin to repopulate the target cols with the \n",
        "    #data we want to rescale\n",
        "    start_col = feature_data.shape[2]-test_targets.shape[2]\n",
        "    total_col = feature_data.shape[2]\n",
        "    \n",
        "    #make trimmed feature copies of equal length as the test data and predictions lengths, \n",
        "    #and leave out the original target data... we will replace these cols with the test and prediction data\n",
        "    flattened_features_test_copy = flattened_features.iloc[:len(y_test_flat),:start_col]\n",
        "    flattened_features_pred_copy = flattened_features.iloc[:len(y_test_flat),:start_col]\n",
        "    #print((flattened_features_pred_copy.values))\n",
        "    \n",
        "    for i in range(start_col,total_col):\n",
        "        #reassign targets cols\n",
        "        flattened_features_test_copy[i] = y_test_flat[:,i-start_col] \n",
        "        flattened_features_pred_copy[i] = predict_flat[:,i-start_col]\n",
        "        #by specifying 'i - start col', we are making sure the target column being \n",
        "        #repopulated is the matching target taken from the test data or predictions.\n",
        "        #Ex: if the start col is 4, then we want to assign the first column of the test and pred data--\n",
        "        #this is index 0, and 4-4 = 0.\n",
        "        \n",
        "    #We now have the correct dimensions, so we can FINALLY rescale\n",
        "    y_test_rescale = scaling_object.inverse_transform(flattened_features_test_copy)\n",
        "    preds_rescale = scaling_object.inverse_transform(flattened_features_pred_copy)\n",
        "    \n",
        "    #just grab the target cols.\n",
        "    y_test_rescale = y_test_rescale[:,start_col:]\n",
        "    preds_rescale = preds_rescale[:,start_col:]\n",
        "    \n",
        "    preds_rescale = pd.DataFrame(preds_rescale,index=index)\n",
        "    y_test_rescale = pd.DataFrame(y_test_rescale,index=index)\n",
        "    \n",
        "    \n",
        "     #before we return the dataframes, check and see if predictions or test data have null values.\n",
        "    if preds_rescale.isnull().values.any()==True:\n",
        "        print('Keras predictions have NaN values present. Deleting...')\n",
        "        print('Current shape: ' + str(pred_rescale.shape))\n",
        "        nans = np.argwhere(np.isnan(preds_rescale.values)) #find nulls\n",
        "        #delete make sure values are deleted from both\n",
        "        y_test_rescale = np.delete(y_test_rescale.values, nans,axis=0)\n",
        "        preds_rescale = np.delete(preds_rescale.values, nans, axis=0)\n",
        "        index = np.delete(index, nans, axis=0)\n",
        "        #turn back into dataframe in case next condition is also true\n",
        "        preds_rescale = pd.DataFrame(preds_rescale, index=index) \n",
        "        y_test_rescale = pd.DataFrame(y_test_rescale, index=index)\n",
        "        print('New Shape: ' + str(preds_rescale.shape))\n",
        "        \n",
        "    \n",
        "    if y_test_rescale.isnull().values.any()==True:\n",
        "        print('Test data still have NaN values present. Deleting...')\n",
        "        print('Current shape: ' + str(y_test_rescale.shape))\n",
        "        nans = np.argwhere(np.isnan(y_test_rescale.values)) \n",
        "        #same as above\n",
        "        y_test_rescale = np.delete(y_test_rescale.values, nans,axis=0)\n",
        "        preds_rescale = np.delete(preds_rescale.values, nans, axis=0)\n",
        "        index = np.delete(index, nans, axis=0)\n",
        "        # make into DataFrame this time to guarantee the below return statement won't spit an error\n",
        "        y_test_rescale = pd.DataFrame(y_test_rescale,index=index)\n",
        "        preds_rescale = pd.DataFrame(preds_rescale,index=index)\n",
        "        print('New shape: ' + str(y_test_rescale.shape))\n",
        "    \n",
        "    print('test data new shape: ' + str(y_test_rescale.shape))\n",
        "    print('prediction new shape: ' + str(preds_rescale.shape))\n",
        "    return y_test_rescale,preds_rescale"
      ],
      "execution_count": 0,
      "outputs": []
    },
    {
      "cell_type": "code",
      "metadata": {
        "ExecuteTime": {
          "end_time": "2020-01-22T22:44:14.641423Z",
          "start_time": "2020-01-22T22:44:14.544395Z"
        },
        "id": "QvYLVu14hxWj",
        "colab_type": "code",
        "colab": {}
      },
      "source": [
        "def lstm_prep(data_index,data,ntargets,ninputs,noutputs=1,show_progress=False):\n",
        "    '''Prepares and reshapes data for use with an LSTM. Outputs features, targets,\n",
        "    and the original data indices of your target values for visualization later. Requires that \n",
        "    the targets are the last N columns in your dataset.\n",
        "    \n",
        "    NOTE: The applies a moving window approach at intervals of the output steps, such that \n",
        "    you group the previous timesteps of inputs for your features (whatever length you choose),set the next \n",
        "    X timesteps of target values as outputs (again, whatever you want), and then move the window X (noutputs)\n",
        "    timesteps in the future to repeat the process. Analogous to a cnn kernal with a stride equal to the output length. \n",
        "    I wrote this to automate and quickly change between varying input and output sequence lengths, \n",
        "    but wanted to avoid overlapping values typical in a moving window approach. \n",
        "    Having these non-overlapping values just makes plotting easier. \n",
        "    So far I have yet to see a need for more samples, which I understand is why the \n",
        "    moving window approach is typicallyimplemented.'''\n",
        "    \n",
        "    target_data = data[:,-ntargets:]\n",
        "    features = np.empty((ninputs,data.shape[1]), int)\n",
        "    targets = np.empty((noutputs,ntargets),int)\n",
        "    for i in range(ninputs,(len(data)-noutputs),noutputs): \n",
        "        if show_progress==True:\n",
        "            print('current index: '+str(i))\n",
        "        \n",
        "        temp_feature_matrix = data[(i-ninputs):i]\n",
        "        temp_target_matrix = target_data[(i):(i+noutputs)]\n",
        "        \n",
        "        features = np.vstack((features, temp_feature_matrix))\n",
        "        targets = np.vstack((targets,temp_target_matrix))\n",
        "    \n",
        "    last_index = i+noutputs\n",
        "    features = features.reshape((int(features.shape[0]/ninputs),ninputs,features.shape[1]))\n",
        "    targets = targets.reshape(int(targets.shape[0]/noutputs),noutputs,targets.shape[1])\n",
        "    \n",
        "    target_indices = data_index[ninputs:last_index]\n",
        "    \n",
        "    return features[1:], targets[1:], target_indices\n",
        "\n",
        "def rectify_cnn_data(predictions, targets, num_targets, noutputs):\n",
        "    preds = np.empty((noutputs,num_targets), int)\n",
        "    tests = np.empty((noutputs,num_targets), int)\n",
        "    for row in range(0,predictions.shape[0]):\n",
        "        pred_t = np.transpose(np.array(np.split(predictions[row],num_targets)))\n",
        "        #print('preds: '+ str(pred_t))\n",
        "        preds = np.vstack((preds, pred_t))\n",
        "\n",
        "        test_t = np.transpose(np.array(np.split(targets[row],num_targets)))\n",
        "        #print('tests: '+ str(test_t))\n",
        "        tests = np.vstack((tests, test_t))\n",
        "    #print(preds)\n",
        "    return preds[noutputs:], tests[noutputs:]\n",
        "\n",
        "\n",
        "def mse_nan(y_true, y_pred):\n",
        "    masked_true = tf.where(tf.is_nan(y_true), tf.zeros_like(y_true), y_true)\n",
        "    masked_pred = tf.where(tf.is_nan(y_true), tf.zeros_like(y_true), y_pred)\n",
        "    return K.mean(K.square(masked_pred - masked_true), axis=-1)\n",
        "\n",
        "def mae_nan(y_true, y_pred):\n",
        "    masked_true = tf.where(tf.is_nan(y_true), tf.zeros_like(y_true), y_true)\n",
        "    masked_pred = tf.where(tf.is_nan(y_true), tf.zeros_like(y_true), y_pred)\n",
        "    return K.mean(abs(masked_pred - masked_true), axis=-1)\n",
        "\n",
        "\n",
        "def evaluate_forecasts(actual, predicted): #from Jason Brownlee's blog\n",
        "    scores = list()\n",
        "    # calculate an RMSE score for each day\n",
        "    for i in range(actual.shape[1]):\n",
        "        # calculate mse\n",
        "        mse = mean_squared_error(actual[:, i], predicted[:, i])\n",
        "        #print('mse: '+ str(mse))\n",
        "        # calculate rmse\n",
        "        rmse = np.sqrt(mse)\n",
        "        # store\n",
        "        scores.append(rmse)\n",
        "    # calculate overall RMSE\n",
        "    s = 0\n",
        "    for row in range(actual.shape[0]):\n",
        "        for col in range(actual.shape[1]):\n",
        "            s += (actual[row, col] - predicted[row, col])**2\n",
        "    score = np.sqrt(s / (actual.shape[0] * actual.shape[1]))\n",
        "    \n",
        "    print(scores)\n",
        "    return score, scores\n",
        "\n",
        "def threshold_rmse_eval(tests, preds, threshold):\n",
        "    pred_pos_all = []\n",
        "    y_pos_all = []\n",
        "    rmse = []\n",
        "    for i in range(preds.shape[1]):\n",
        "        #grab individual cols\n",
        "        data_slice_test = tests[:,i]\n",
        "        data_slice_pred = preds[:,i]\n",
        "        \n",
        "        \n",
        "        #This avoids a warning for the np.where query a couple of lines down...\n",
        "        test_nans = np.where(np.isnan(data_slice_test)) #find nans and replace with dummy value. \n",
        "        tests[test_nans] = threshold*100\n",
        "        \n",
        "        #find all values greater than or equal to your threshold value\n",
        "        pos_test = np.where(data_slice_test >= threshold)\n",
        "        y_pos = data_slice_test[pos_test] #get those values from the test data\n",
        "        pred_pos = data_slice_pred[pos_test] #get the equivalent values from the predictions\n",
        "        \n",
        "        #calculate mse, rmse\n",
        "        mse = mean_squared_error(y_pos, pred_pos)\n",
        "        rmse_val = np.sqrt(mse)\n",
        "        \n",
        "        #append all values to our respective lists\n",
        "        rmse.append(rmse_val)\n",
        "        y_pos_all.append(y_pos)\n",
        "        pred_pos_all.append(pred_pos)\n",
        "    \n",
        "    print('per target rmse: ' + str(rmse))\n",
        "    \n",
        "    \n",
        "    #make a list of rmse per datapoint\n",
        "    diff_array = np.empty((1,tests.shape[1]),int)\n",
        "    for row in range(tests.shape[0]):\n",
        "        diffs = []\n",
        "        for col in range(tests.shape[1]):\n",
        "            #print(tests[row,col])\n",
        "            #print(preds[row,col])\n",
        "            diff = tests[row,col] - preds[row, col]\n",
        "            diffs.append(diff)\n",
        "        diffs = np.array(diffs)\n",
        "        diff_array = np.vstack((diff_array,diffs))\n",
        "    \n",
        "    return y_pos_all, pred_pos_all, rmse, diff_array[1:]\n",
        "\n",
        "\n",
        "def naive_forecast(test_data,backsteps,forward_steps):\n",
        "    back_array = np.arange(0,backsteps+1)\n",
        "    naive_preds = np.zeros(shape=(test_data.shape[0],test_data.shape[1]))\n",
        "    for row in range(0,test_data.shape[0],forward_steps):\n",
        "        #print(row)\n",
        "        for col in range(test_data.shape[1]):\n",
        "            if row in back_array:\n",
        "                naive_preds[row,col] = test_data[row,col]\n",
        "            else:\n",
        "                naive_preds[row,col] = np.mean(test_data[(row-backsteps):row,col])\n",
        "                for i in range(1,forward_steps):\n",
        "                    row_index = row+i\n",
        "                    if row_index == len(test_data):\n",
        "                        break\n",
        "                    else:\n",
        "                        naive_preds[(row_index),col] = np.mean(naive_preds[(row_index-backsteps):row_index,col])\n",
        "\n",
        "    return naive_preds\n",
        "\n",
        "def add_max_rainfall(data,interval,rain_col,noise=False):\n",
        "    '''takes times series data as input, and calculates the maximum and total rainfall values \n",
        "    for a fixed interval, based on the column index of your rainfall (rain_col).\n",
        "\n",
        "    This function assumes you are using pandas, but can be modified for numpy arrays, which will perform faster\n",
        "    for larger datasets'''\n",
        "    rain_total = np.array(np.zeros(len(data)))\n",
        "    rain_max = np.array(np.zeros(len(data)))\n",
        "    \n",
        "    if noise==True:\n",
        "      for row in range(0,len(data),1):\n",
        "        if row >= (len(data) - interval):\n",
        "            rain_total[row] = (np.sum(data.iloc[row:len(data),rain_col]))*np.random.randint(0.75,1.25)\n",
        "            rain_max[row] = (max(data.iloc[row:len(data),rain_col]))*np.random.randint(0.75,1.25)\n",
        "            \n",
        "        rain_total[row] = np.sum(data.iloc[row:row+interval,rain_col])*np.random.randint(0.75,1.25)\n",
        "        rain_max[row] = max(data.iloc[row:row+interval,rain_col])*np.random.randint(0.75,1.25)\n",
        "\n",
        "\n",
        "\n",
        "    else:\n",
        "      for row in range(0,len(data),1):\n",
        "          if row >= (len(data) - interval):\n",
        "              rain_total[row] = np.sum(data.iloc[row:len(data),rain_col])\n",
        "              rain_max[row] = np.nanmax(data.iloc[row:len(data),rain_col])\n",
        "          \n",
        "          rain_total[row] = np.sum(data.iloc[row:row+interval,rain_col])\n",
        "          rain_max[row] = np.nanmax(data.iloc[row:row+interval,rain_col])\n",
        "\n",
        "    data[str(interval)+'hr_total_rfall'] = rain_total\n",
        "    data[str(interval)+'hr_max_rfall'] = rain_max\n",
        "    \n",
        "    return data"
      ],
      "execution_count": 0,
      "outputs": []
    },
    {
      "cell_type": "code",
      "metadata": {
        "id": "6FQeEeb5iA7T",
        "colab_type": "code",
        "outputId": "508f3043-7246-4f21-c66d-5a8faa92791a",
        "colab": {
          "resources": {
            "http://localhost:8080/nbextensions/google.colab/files.js": {
              "data": "Ly8gQ29weXJpZ2h0IDIwMTcgR29vZ2xlIExMQwovLwovLyBMaWNlbnNlZCB1bmRlciB0aGUgQXBhY2hlIExpY2Vuc2UsIFZlcnNpb24gMi4wICh0aGUgIkxpY2Vuc2UiKTsKLy8geW91IG1heSBub3QgdXNlIHRoaXMgZmlsZSBleGNlcHQgaW4gY29tcGxpYW5jZSB3aXRoIHRoZSBMaWNlbnNlLgovLyBZb3UgbWF5IG9idGFpbiBhIGNvcHkgb2YgdGhlIExpY2Vuc2UgYXQKLy8KLy8gICAgICBodHRwOi8vd3d3LmFwYWNoZS5vcmcvbGljZW5zZXMvTElDRU5TRS0yLjAKLy8KLy8gVW5sZXNzIHJlcXVpcmVkIGJ5IGFwcGxpY2FibGUgbGF3IG9yIGFncmVlZCB0byBpbiB3cml0aW5nLCBzb2Z0d2FyZQovLyBkaXN0cmlidXRlZCB1bmRlciB0aGUgTGljZW5zZSBpcyBkaXN0cmlidXRlZCBvbiBhbiAiQVMgSVMiIEJBU0lTLAovLyBXSVRIT1VUIFdBUlJBTlRJRVMgT1IgQ09ORElUSU9OUyBPRiBBTlkgS0lORCwgZWl0aGVyIGV4cHJlc3Mgb3IgaW1wbGllZC4KLy8gU2VlIHRoZSBMaWNlbnNlIGZvciB0aGUgc3BlY2lmaWMgbGFuZ3VhZ2UgZ292ZXJuaW5nIHBlcm1pc3Npb25zIGFuZAovLyBsaW1pdGF0aW9ucyB1bmRlciB0aGUgTGljZW5zZS4KCi8qKgogKiBAZmlsZW92ZXJ2aWV3IEhlbHBlcnMgZm9yIGdvb2dsZS5jb2xhYiBQeXRob24gbW9kdWxlLgogKi8KKGZ1bmN0aW9uKHNjb3BlKSB7CmZ1bmN0aW9uIHNwYW4odGV4dCwgc3R5bGVBdHRyaWJ1dGVzID0ge30pIHsKICBjb25zdCBlbGVtZW50ID0gZG9jdW1lbnQuY3JlYXRlRWxlbWVudCgnc3BhbicpOwogIGVsZW1lbnQudGV4dENvbnRlbnQgPSB0ZXh0OwogIGZvciAoY29uc3Qga2V5IG9mIE9iamVjdC5rZXlzKHN0eWxlQXR0cmlidXRlcykpIHsKICAgIGVsZW1lbnQuc3R5bGVba2V5XSA9IHN0eWxlQXR0cmlidXRlc1trZXldOwogIH0KICByZXR1cm4gZWxlbWVudDsKfQoKLy8gTWF4IG51bWJlciBvZiBieXRlcyB3aGljaCB3aWxsIGJlIHVwbG9hZGVkIGF0IGEgdGltZS4KY29uc3QgTUFYX1BBWUxPQURfU0laRSA9IDEwMCAqIDEwMjQ7Ci8vIE1heCBhbW91bnQgb2YgdGltZSB0byBibG9jayB3YWl0aW5nIGZvciB0aGUgdXNlci4KY29uc3QgRklMRV9DSEFOR0VfVElNRU9VVF9NUyA9IDMwICogMTAwMDsKCmZ1bmN0aW9uIF91cGxvYWRGaWxlcyhpbnB1dElkLCBvdXRwdXRJZCkgewogIGNvbnN0IHN0ZXBzID0gdXBsb2FkRmlsZXNTdGVwKGlucHV0SWQsIG91dHB1dElkKTsKICBjb25zdCBvdXRwdXRFbGVtZW50ID0gZG9jdW1lbnQuZ2V0RWxlbWVudEJ5SWQob3V0cHV0SWQpOwogIC8vIENhY2hlIHN0ZXBzIG9uIHRoZSBvdXRwdXRFbGVtZW50IHRvIG1ha2UgaXQgYXZhaWxhYmxlIGZvciB0aGUgbmV4dCBjYWxsCiAgLy8gdG8gdXBsb2FkRmlsZXNDb250aW51ZSBmcm9tIFB5dGhvbi4KICBvdXRwdXRFbGVtZW50LnN0ZXBzID0gc3RlcHM7CgogIHJldHVybiBfdXBsb2FkRmlsZXNDb250aW51ZShvdXRwdXRJZCk7Cn0KCi8vIFRoaXMgaXMgcm91Z2hseSBhbiBhc3luYyBnZW5lcmF0b3IgKG5vdCBzdXBwb3J0ZWQgaW4gdGhlIGJyb3dzZXIgeWV0KSwKLy8gd2hlcmUgdGhlcmUgYXJlIG11bHRpcGxlIGFzeW5jaHJvbm91cyBzdGVwcyBhbmQgdGhlIFB5dGhvbiBzaWRlIGlzIGdvaW5nCi8vIHRvIHBvbGwgZm9yIGNvbXBsZXRpb24gb2YgZWFjaCBzdGVwLgovLyBUaGlzIHVzZXMgYSBQcm9taXNlIHRvIGJsb2NrIHRoZSBweXRob24gc2lkZSBvbiBjb21wbGV0aW9uIG9mIGVhY2ggc3RlcCwKLy8gdGhlbiBwYXNzZXMgdGhlIHJlc3VsdCBvZiB0aGUgcHJldmlvdXMgc3RlcCBhcyB0aGUgaW5wdXQgdG8gdGhlIG5leHQgc3RlcC4KZnVuY3Rpb24gX3VwbG9hZEZpbGVzQ29udGludWUob3V0cHV0SWQpIHsKICBjb25zdCBvdXRwdXRFbGVtZW50ID0gZG9jdW1lbnQuZ2V0RWxlbWVudEJ5SWQob3V0cHV0SWQpOwogIGNvbnN0IHN0ZXBzID0gb3V0cHV0RWxlbWVudC5zdGVwczsKCiAgY29uc3QgbmV4dCA9IHN0ZXBzLm5leHQob3V0cHV0RWxlbWVudC5sYXN0UHJvbWlzZVZhbHVlKTsKICByZXR1cm4gUHJvbWlzZS5yZXNvbHZlKG5leHQudmFsdWUucHJvbWlzZSkudGhlbigodmFsdWUpID0+IHsKICAgIC8vIENhY2hlIHRoZSBsYXN0IHByb21pc2UgdmFsdWUgdG8gbWFrZSBpdCBhdmFpbGFibGUgdG8gdGhlIG5leHQKICAgIC8vIHN0ZXAgb2YgdGhlIGdlbmVyYXRvci4KICAgIG91dHB1dEVsZW1lbnQubGFzdFByb21pc2VWYWx1ZSA9IHZhbHVlOwogICAgcmV0dXJuIG5leHQudmFsdWUucmVzcG9uc2U7CiAgfSk7Cn0KCi8qKgogKiBHZW5lcmF0b3IgZnVuY3Rpb24gd2hpY2ggaXMgY2FsbGVkIGJldHdlZW4gZWFjaCBhc3luYyBzdGVwIG9mIHRoZSB1cGxvYWQKICogcHJvY2Vzcy4KICogQHBhcmFtIHtzdHJpbmd9IGlucHV0SWQgRWxlbWVudCBJRCBvZiB0aGUgaW5wdXQgZmlsZSBwaWNrZXIgZWxlbWVudC4KICogQHBhcmFtIHtzdHJpbmd9IG91dHB1dElkIEVsZW1lbnQgSUQgb2YgdGhlIG91dHB1dCBkaXNwbGF5LgogKiBAcmV0dXJuIHshSXRlcmFibGU8IU9iamVjdD59IEl0ZXJhYmxlIG9mIG5leHQgc3RlcHMuCiAqLwpmdW5jdGlvbiogdXBsb2FkRmlsZXNTdGVwKGlucHV0SWQsIG91dHB1dElkKSB7CiAgY29uc3QgaW5wdXRFbGVtZW50ID0gZG9jdW1lbnQuZ2V0RWxlbWVudEJ5SWQoaW5wdXRJZCk7CiAgaW5wdXRFbGVtZW50LmRpc2FibGVkID0gZmFsc2U7CgogIGNvbnN0IG91dHB1dEVsZW1lbnQgPSBkb2N1bWVudC5nZXRFbGVtZW50QnlJZChvdXRwdXRJZCk7CiAgb3V0cHV0RWxlbWVudC5pbm5lckhUTUwgPSAnJzsKCiAgY29uc3QgcGlja2VkUHJvbWlzZSA9IG5ldyBQcm9taXNlKChyZXNvbHZlKSA9PiB7CiAgICBpbnB1dEVsZW1lbnQuYWRkRXZlbnRMaXN0ZW5lcignY2hhbmdlJywgKGUpID0+IHsKICAgICAgcmVzb2x2ZShlLnRhcmdldC5maWxlcyk7CiAgICB9KTsKICB9KTsKCiAgY29uc3QgY2FuY2VsID0gZG9jdW1lbnQuY3JlYXRlRWxlbWVudCgnYnV0dG9uJyk7CiAgaW5wdXRFbGVtZW50LnBhcmVudEVsZW1lbnQuYXBwZW5kQ2hpbGQoY2FuY2VsKTsKICBjYW5jZWwudGV4dENvbnRlbnQgPSAnQ2FuY2VsIHVwbG9hZCc7CiAgY29uc3QgY2FuY2VsUHJvbWlzZSA9IG5ldyBQcm9taXNlKChyZXNvbHZlKSA9PiB7CiAgICBjYW5jZWwub25jbGljayA9ICgpID0+IHsKICAgICAgcmVzb2x2ZShudWxsKTsKICAgIH07CiAgfSk7CgogIC8vIENhbmNlbCB1cGxvYWQgaWYgdXNlciBoYXNuJ3QgcGlja2VkIGFueXRoaW5nIGluIHRpbWVvdXQuCiAgY29uc3QgdGltZW91dFByb21pc2UgPSBuZXcgUHJvbWlzZSgocmVzb2x2ZSkgPT4gewogICAgc2V0VGltZW91dCgoKSA9PiB7CiAgICAgIHJlc29sdmUobnVsbCk7CiAgICB9LCBGSUxFX0NIQU5HRV9USU1FT1VUX01TKTsKICB9KTsKCiAgLy8gV2FpdCBmb3IgdGhlIHVzZXIgdG8gcGljayB0aGUgZmlsZXMuCiAgY29uc3QgZmlsZXMgPSB5aWVsZCB7CiAgICBwcm9taXNlOiBQcm9taXNlLnJhY2UoW3BpY2tlZFByb21pc2UsIHRpbWVvdXRQcm9taXNlLCBjYW5jZWxQcm9taXNlXSksCiAgICByZXNwb25zZTogewogICAgICBhY3Rpb246ICdzdGFydGluZycsCiAgICB9CiAgfTsKCiAgaWYgKCFmaWxlcykgewogICAgcmV0dXJuIHsKICAgICAgcmVzcG9uc2U6IHsKICAgICAgICBhY3Rpb246ICdjb21wbGV0ZScsCiAgICAgIH0KICAgIH07CiAgfQoKICBjYW5jZWwucmVtb3ZlKCk7CgogIC8vIERpc2FibGUgdGhlIGlucHV0IGVsZW1lbnQgc2luY2UgZnVydGhlciBwaWNrcyBhcmUgbm90IGFsbG93ZWQuCiAgaW5wdXRFbGVtZW50LmRpc2FibGVkID0gdHJ1ZTsKCiAgZm9yIChjb25zdCBmaWxlIG9mIGZpbGVzKSB7CiAgICBjb25zdCBsaSA9IGRvY3VtZW50LmNyZWF0ZUVsZW1lbnQoJ2xpJyk7CiAgICBsaS5hcHBlbmQoc3BhbihmaWxlLm5hbWUsIHtmb250V2VpZ2h0OiAnYm9sZCd9KSk7CiAgICBsaS5hcHBlbmQoc3BhbigKICAgICAgICBgKCR7ZmlsZS50eXBlIHx8ICduL2EnfSkgLSAke2ZpbGUuc2l6ZX0gYnl0ZXMsIGAgKwogICAgICAgIGBsYXN0IG1vZGlmaWVkOiAkewogICAgICAgICAgICBmaWxlLmxhc3RNb2RpZmllZERhdGUgPyBmaWxlLmxhc3RNb2RpZmllZERhdGUudG9Mb2NhbGVEYXRlU3RyaW5nKCkgOgogICAgICAgICAgICAgICAgICAgICAgICAgICAgICAgICAgICAnbi9hJ30gLSBgKSk7CiAgICBjb25zdCBwZXJjZW50ID0gc3BhbignMCUgZG9uZScpOwogICAgbGkuYXBwZW5kQ2hpbGQocGVyY2VudCk7CgogICAgb3V0cHV0RWxlbWVudC5hcHBlbmRDaGlsZChsaSk7CgogICAgY29uc3QgZmlsZURhdGFQcm9taXNlID0gbmV3IFByb21pc2UoKHJlc29sdmUpID0+IHsKICAgICAgY29uc3QgcmVhZGVyID0gbmV3IEZpbGVSZWFkZXIoKTsKICAgICAgcmVhZGVyLm9ubG9hZCA9IChlKSA9PiB7CiAgICAgICAgcmVzb2x2ZShlLnRhcmdldC5yZXN1bHQpOwogICAgICB9OwogICAgICByZWFkZXIucmVhZEFzQXJyYXlCdWZmZXIoZmlsZSk7CiAgICB9KTsKICAgIC8vIFdhaXQgZm9yIHRoZSBkYXRhIHRvIGJlIHJlYWR5LgogICAgbGV0IGZpbGVEYXRhID0geWllbGQgewogICAgICBwcm9taXNlOiBmaWxlRGF0YVByb21pc2UsCiAgICAgIHJlc3BvbnNlOiB7CiAgICAgICAgYWN0aW9uOiAnY29udGludWUnLAogICAgICB9CiAgICB9OwoKICAgIC8vIFVzZSBhIGNodW5rZWQgc2VuZGluZyB0byBhdm9pZCBtZXNzYWdlIHNpemUgbGltaXRzLiBTZWUgYi82MjExNTY2MC4KICAgIGxldCBwb3NpdGlvbiA9IDA7CiAgICB3aGlsZSAocG9zaXRpb24gPCBmaWxlRGF0YS5ieXRlTGVuZ3RoKSB7CiAgICAgIGNvbnN0IGxlbmd0aCA9IE1hdGgubWluKGZpbGVEYXRhLmJ5dGVMZW5ndGggLSBwb3NpdGlvbiwgTUFYX1BBWUxPQURfU0laRSk7CiAgICAgIGNvbnN0IGNodW5rID0gbmV3IFVpbnQ4QXJyYXkoZmlsZURhdGEsIHBvc2l0aW9uLCBsZW5ndGgpOwogICAgICBwb3NpdGlvbiArPSBsZW5ndGg7CgogICAgICBjb25zdCBiYXNlNjQgPSBidG9hKFN0cmluZy5mcm9tQ2hhckNvZGUuYXBwbHkobnVsbCwgY2h1bmspKTsKICAgICAgeWllbGQgewogICAgICAgIHJlc3BvbnNlOiB7CiAgICAgICAgICBhY3Rpb246ICdhcHBlbmQnLAogICAgICAgICAgZmlsZTogZmlsZS5uYW1lLAogICAgICAgICAgZGF0YTogYmFzZTY0LAogICAgICAgIH0sCiAgICAgIH07CiAgICAgIHBlcmNlbnQudGV4dENvbnRlbnQgPQogICAgICAgICAgYCR7TWF0aC5yb3VuZCgocG9zaXRpb24gLyBmaWxlRGF0YS5ieXRlTGVuZ3RoKSAqIDEwMCl9JSBkb25lYDsKICAgIH0KICB9CgogIC8vIEFsbCBkb25lLgogIHlpZWxkIHsKICAgIHJlc3BvbnNlOiB7CiAgICAgIGFjdGlvbjogJ2NvbXBsZXRlJywKICAgIH0KICB9Owp9CgpzY29wZS5nb29nbGUgPSBzY29wZS5nb29nbGUgfHwge307CnNjb3BlLmdvb2dsZS5jb2xhYiA9IHNjb3BlLmdvb2dsZS5jb2xhYiB8fCB7fTsKc2NvcGUuZ29vZ2xlLmNvbGFiLl9maWxlcyA9IHsKICBfdXBsb2FkRmlsZXMsCiAgX3VwbG9hZEZpbGVzQ29udGludWUsCn07Cn0pKHNlbGYpOwo=",
              "ok": true,
              "headers": [
                [
                  "content-type",
                  "application/javascript"
                ]
              ],
              "status": 200,
              "status_text": "OK"
            }
          },
          "base_uri": "https://localhost:8080/",
          "height": 71
        }
      },
      "source": [
        "from google.colab import files\n",
        "uploaded = files.upload()"
      ],
      "execution_count": 0,
      "outputs": [
        {
          "output_type": "display_data",
          "data": {
            "text/html": [
              "\n",
              "     <input type=\"file\" id=\"files-ac0f80f1-f694-4563-b72c-40e098c134e8\" name=\"files[]\" multiple disabled />\n",
              "     <output id=\"result-ac0f80f1-f694-4563-b72c-40e098c134e8\">\n",
              "      Upload widget is only available when the cell has been executed in the\n",
              "      current browser session. Please rerun this cell to enable.\n",
              "      </output>\n",
              "      <script src=\"/nbextensions/google.colab/files.js\"></script> "
            ],
            "text/plain": [
              "<IPython.core.display.HTML object>"
            ]
          },
          "metadata": {
            "tags": []
          }
        },
        {
          "output_type": "stream",
          "text": [
            "Saving SP1.txt to SP1.txt\n"
          ],
          "name": "stdout"
        }
      ]
    },
    {
      "cell_type": "code",
      "metadata": {
        "ExecuteTime": {
          "end_time": "2020-01-22T22:44:23.005938Z",
          "start_time": "2020-01-22T22:44:15.668946Z"
        },
        "id": "QJSqohV0hxWt",
        "colab_type": "code",
        "colab": {}
      },
      "source": [
        "ocr = pd.read_csv('SP1.txt',index_col='timestamp_utc',sep='\\t')\n",
        "datetime = pd.to_datetime(ocr.index,dayfirst=False)\n",
        "ocr = ocr.set_index(datetime)\n",
        "mask_cols = ['porePressure_63cm_kPa','porePressure_113cm_kPa','porePressure_244cm_kPa']\n",
        "ocr[mask_cols] = ocr[mask_cols].mask(ocr[mask_cols] < -14)"
      ],
      "execution_count": 0,
      "outputs": []
    },
    {
      "cell_type": "code",
      "metadata": {
        "ExecuteTime": {
          "end_time": "2020-01-22T22:44:24.254337Z",
          "start_time": "2020-01-22T22:44:24.245279Z"
        },
        "id": "PxkQrrDHhxW3",
        "colab_type": "code",
        "colab": {}
      },
      "source": [
        "ocr['date'] = ocr.index.values.astype(float)"
      ],
      "execution_count": 0,
      "outputs": []
    },
    {
      "cell_type": "code",
      "metadata": {
        "id": "9oSsGqBksHsY",
        "colab_type": "code",
        "outputId": "5c807cb9-5658-44f3-d44f-6cc92ab62ed1",
        "colab": {
          "base_uri": "https://localhost:8080/",
          "height": 69
        }
      },
      "source": [
        "ocr.columns"
      ],
      "execution_count": 0,
      "outputs": [
        {
          "output_type": "execute_result",
          "data": {
            "text/plain": [
              "Index(['RG_mm', 'VWC_20cm', 'VWC_50cm', 'VWC_93cm', 'porePressure_63cm_kPa',\n",
              "       'porePressure_113cm_kPa', 'porePressure_244cm_kPa', 'date'],\n",
              "      dtype='object')"
            ]
          },
          "metadata": {
            "tags": []
          },
          "execution_count": 9
        }
      ]
    },
    {
      "cell_type": "code",
      "metadata": {
        "ExecuteTime": {
          "end_time": "2020-01-22T22:46:28.112431Z",
          "start_time": "2020-01-22T22:44:24.712653Z"
        },
        "id": "lZD-bkK6hxW-",
        "colab_type": "code",
        "colab": {}
      },
      "source": [
        "# add in forecasted rainfall\n",
        "# this will take a while\n",
        "for i in range(2,38,2):\n",
        "  ocr = add_max_rainfall(ocr,i,0,noise=False)"
      ],
      "execution_count": 0,
      "outputs": []
    },
    {
      "cell_type": "code",
      "metadata": {
        "id": "Y8wGddL_qDe0",
        "colab_type": "code",
        "outputId": "48b72839-c127-4e08-e29d-6701aab57672",
        "colab": {
          "base_uri": "https://localhost:8080/",
          "height": 278
        }
      },
      "source": [
        "# list relevant cols\n",
        "ocr.columns"
      ],
      "execution_count": 0,
      "outputs": [
        {
          "output_type": "execute_result",
          "data": {
            "text/plain": [
              "Index(['RG_mm', 'VWC_20cm', 'VWC_50cm', 'VWC_93cm', 'porePressure_63cm_kPa',\n",
              "       'porePressure_113cm_kPa', 'porePressure_244cm_kPa', 'date',\n",
              "       '2hr_total_rfall', '2hr_max_rfall', '4hr_total_rfall', '4hr_max_rfall',\n",
              "       '6hr_total_rfall', '6hr_max_rfall', '8hr_total_rfall', '8hr_max_rfall',\n",
              "       '10hr_total_rfall', '10hr_max_rfall', '12hr_total_rfall',\n",
              "       '12hr_max_rfall', '14hr_total_rfall', '14hr_max_rfall',\n",
              "       '16hr_total_rfall', '16hr_max_rfall', '18hr_total_rfall',\n",
              "       '18hr_max_rfall', '20hr_total_rfall', '20hr_max_rfall',\n",
              "       '22hr_total_rfall', '22hr_max_rfall', '24hr_total_rfall',\n",
              "       '24hr_max_rfall', '26hr_total_rfall', '26hr_max_rfall',\n",
              "       '28hr_total_rfall', '28hr_max_rfall', '30hr_total_rfall',\n",
              "       '30hr_max_rfall', '32hr_total_rfall', '32hr_max_rfall',\n",
              "       '34hr_total_rfall', '34hr_max_rfall', '36hr_total_rfall',\n",
              "       '36hr_max_rfall'],\n",
              "      dtype='object')"
            ]
          },
          "metadata": {
            "tags": []
          },
          "execution_count": 11
        }
      ]
    },
    {
      "cell_type": "code",
      "metadata": {
        "ExecuteTime": {
          "end_time": "2020-01-22T22:46:39.077801Z",
          "start_time": "2020-01-22T22:46:39.056890Z"
        },
        "id": "Rr8pofRihxXK",
        "colab_type": "code",
        "colab": {}
      },
      "source": [
        "# rearrange cols\n",
        "ocr = ocr.loc[:,['date', 'RG_mm','2hr_total_rfall', '2hr_max_rfall', '4hr_total_rfall', '4hr_max_rfall',\n",
        "       '6hr_total_rfall', '6hr_max_rfall', '8hr_total_rfall', '8hr_max_rfall',\n",
        "       '10hr_total_rfall', '10hr_max_rfall', '12hr_total_rfall',\n",
        "       '12hr_max_rfall', '14hr_total_rfall', '14hr_max_rfall',\n",
        "       '16hr_total_rfall', '16hr_max_rfall', '18hr_total_rfall',\n",
        "       '18hr_max_rfall', '20hr_total_rfall', '20hr_max_rfall',\n",
        "       '22hr_total_rfall', '22hr_max_rfall', '24hr_total_rfall',\n",
        "       '24hr_max_rfall', '26hr_total_rfall', '26hr_max_rfall',\n",
        "       '28hr_total_rfall', '28hr_max_rfall', '30hr_total_rfall',\n",
        "       '30hr_max_rfall', '32hr_total_rfall', '32hr_max_rfall',\n",
        "       '34hr_total_rfall', '34hr_max_rfall', '36hr_total_rfall',\n",
        "       '36hr_max_rfall', 'VWC_20cm', 'VWC_50cm', 'VWC_93cm',\n",
        "       'porePressure_63cm_kPa', 'porePressure_113cm_kPa',\n",
        "       'porePressure_244cm_kPa']]"
      ],
      "execution_count": 0,
      "outputs": []
    },
    {
      "cell_type": "code",
      "metadata": {
        "ExecuteTime": {
          "end_time": "2020-01-22T22:46:39.724683Z",
          "start_time": "2020-01-22T22:46:39.651347Z"
        },
        "id": "5bO4k789hxXS",
        "colab_type": "code",
        "colab": {}
      },
      "source": [
        "# scale data\n",
        "data = ocr\n",
        "data_scaling = preprocessing.MinMaxScaler(feature_range=(0,1)).fit(data.iloc[:,:])\n",
        "data_scaled = pd.DataFrame(data_scaling.transform(data.iloc[:,:]),index=ocr.index)\n",
        "data_scaled_df = data_scaled.fillna(-1)"
      ],
      "execution_count": 0,
      "outputs": []
    },
    {
      "cell_type": "code",
      "metadata": {
        "ExecuteTime": {
          "end_time": "2020-01-22T22:46:52.961927Z",
          "start_time": "2020-01-22T22:46:40.187537Z"
        },
        "id": "yZG00zWmhxXb",
        "colab_type": "code",
        "colab": {}
      },
      "source": [
        "# finally, prepare features and targets\n",
        "features, targets, target_indices = lstm_prep(data_scaled_df.index.values,data_scaled_df.values,3,36,36)"
      ],
      "execution_count": 0,
      "outputs": []
    },
    {
      "cell_type": "code",
      "metadata": {
        "ExecuteTime": {
          "end_time": "2020-01-22T22:46:53.775676Z",
          "start_time": "2020-01-22T22:46:53.747581Z"
        },
        "id": "wabriUuyhxXj",
        "colab_type": "code",
        "colab": {}
      },
      "source": [
        "# create bounds for the prediction intervals\n",
        "intervals = np.zeros(len(target_indices))\n",
        "for i in range(0,len(intervals),targets.shape[1]):\n",
        "    intervals[i]=1\n",
        "\n",
        "intervals[intervals==0] = np.nan\n",
        "\n",
        "binary_indices = np.copy(target_indices)\n",
        "\n",
        "for i in range(0,len(binary_indices),36):\n",
        "    binary_indices[i]=np.datetime64(\"NaT\")"
      ],
      "execution_count": 0,
      "outputs": []
    },
    {
      "cell_type": "code",
      "metadata": {
        "ExecuteTime": {
          "end_time": "2020-01-22T22:46:55.612682Z",
          "start_time": "2020-01-22T22:46:55.607310Z"
        },
        "id": "aYydCOGjhxXr",
        "colab_type": "code",
        "colab": {}
      },
      "source": [
        "# set -1s to nan to be ignored\n",
        "targets[targets==-1]=np.nan"
      ],
      "execution_count": 0,
      "outputs": []
    },
    {
      "cell_type": "code",
      "metadata": {
        "ExecuteTime": {
          "end_time": "2020-01-22T22:46:56.876575Z",
          "start_time": "2020-01-22T22:46:56.866142Z"
        },
        "id": "TcF5iy_yhxX3",
        "colab_type": "code",
        "colab": {}
      },
      "source": [
        "# split training/testing data based on water years 1&2\n",
        "split = 0.7\n",
        "train_features = features[:int((len(features)*split))]\n",
        "test_features = features[int((len(features)*split)):]\n",
        "\n",
        "train_targets = targets[:int((len(features)*split))]\n",
        "test_targets = targets[int((len(features)*split)):]\n",
        "test_indices = target_indices[-test_targets.shape[0]*test_targets.shape[1]:]"
      ],
      "execution_count": 0,
      "outputs": []
    },
    {
      "cell_type": "code",
      "metadata": {
        "id": "VRLN6spIlRaP",
        "colab_type": "code",
        "colab": {}
      },
      "source": [
        "# if you want to subsample the training data to test minimum requirements\n",
        "# otherwise skip this\n",
        "train_features_reduced, _ , train_targets_reduced, _ = train_test_split(train_features, train_targets, \n",
        "                                                                       test_size=0.86, random_state=42,shuffle=True)"
      ],
      "execution_count": 0,
      "outputs": []
    },
    {
      "cell_type": "markdown",
      "metadata": {
        "id": "f-auKFCVhxYf",
        "colab_type": "text"
      },
      "source": [
        "The below model is inspired by and adapted from: https://github.com/LukeTonin/keras-seq-2-seq-signal-prediction"
      ]
    },
    {
      "cell_type": "markdown",
      "metadata": {
        "id": "5HXXTCQGhxYn",
        "colab_type": "text"
      },
      "source": [
        "Create our Encoder:"
      ]
    },
    {
      "cell_type": "code",
      "metadata": {
        "ExecuteTime": {
          "end_time": "2020-01-22T22:23:22.261323Z",
          "start_time": "2020-01-22T22:23:18.861Z"
        },
        "id": "pMTItD5khxYq",
        "colab_type": "code",
        "colab": {}
      },
      "source": [
        "# Define an input shape. This is the tensor shape our model expects from now on.\n",
        "# This is essential for a stateful model\n",
        "batch = None\n",
        "n_units = 32\n",
        "\n",
        "encoder_inputs = Input(batch_input_shape=(batch,train_features.shape[1],train_features.shape[2]))\n",
        "\n",
        "encoder_lstm1 = LSTM(n_units, return_state=True,stateful=False,return_sequences=True) # define encoder\n",
        "encoder_lstm2 = LSTM(n_units, return_state=True,stateful=False,return_sequences=True)\n",
        "# connect encoding layer to our inputs, return all states\n",
        "int_enc_outputs = encoder_lstm1(encoder_inputs)\n",
        "encoder_outputs, state_h, state_c = encoder_lstm2(int_enc_outputs) \n",
        "\n",
        "encoder_states = [state_h, state_c]"
      ],
      "execution_count": 0,
      "outputs": []
    },
    {
      "cell_type": "code",
      "metadata": {
        "id": "6sbuXWxUzVhZ",
        "colab_type": "code",
        "colab": {}
      },
      "source": [
        "# to experiment with a bidirectional LSTM, you can use this code block instead\n",
        "# but you will have to double the units in the decoder accordingly\n",
        "encoder_lstm = Bidirectional(LSTM(units=n_units, return_sequences=True, return_state=True)) # Bidirectional\n",
        "encoder_outputs, fstate_h, fstate_c, bstate_h, bstate_c = encoder_lstm((encoder_inputs))\n",
        "state_h = Concatenate()([fstate_h,bstate_h])\n",
        "state_c = Concatenate()([bstate_h,bstate_c])\n",
        "\n",
        "encoder_states = [state_h, state_c]"
      ],
      "execution_count": 0,
      "outputs": []
    },
    {
      "cell_type": "markdown",
      "metadata": {
        "id": "Y-tsdAwfhxYy",
        "colab_type": "text"
      },
      "source": [
        "Create Decoder:"
      ]
    },
    {
      "cell_type": "code",
      "metadata": {
        "ExecuteTime": {
          "end_time": "2020-01-22T22:23:22.264487Z",
          "start_time": "2020-01-22T22:23:18.867Z"
        },
        "id": "pPbHH3lVhxY1",
        "colab_type": "code",
        "colab": {}
      },
      "source": [
        "# Define inputs to the decoder.\n",
        "decoder_inputs = Input(batch_input_shape=(batch,None,train_targets.shape[2]))\n",
        "\n",
        "# Create Decoder...\n",
        "decoder_lstm = (LSTM(n_units, return_state=True, return_sequences=True,stateful=False))\n",
        "# Important step: connect Decoder to our input layers and use the hidden and cell states \n",
        "# from the encoder to instantiate this layer\n",
        "\n",
        "decoder_outputs, _, _ = decoder_lstm(decoder_inputs, initial_state=[state_h, state_c])\n",
        "\n",
        "#create attention layer\n",
        "# ----------------------\n",
        "attention = dot([decoder_outputs, encoder_outputs], axes=[2, 2])\n",
        "attention2 = Activation('softmax')(attention)\n",
        "\n",
        "context = dot([attention2, encoder_outputs], axes=[2,1])\n",
        "decoder_combined_context = concatenate([context, decoder_outputs])\n",
        "# ----------------------\n",
        "\n",
        "decoder_dense1 = (Dense(50, activation='tanh'))\n",
        "dropout = Dropout(0.5)\n",
        "decoder_dense2 = Dense(train_targets.shape[2],activation='linear')\n",
        "\n",
        "dense1 = decoder_dense1(decoder_combined_context)\n",
        "drop = dropout(dense1)\n",
        "\n",
        "decoder_outputs = decoder_dense2(drop)"
      ],
      "execution_count": 0,
      "outputs": []
    },
    {
      "cell_type": "code",
      "metadata": {
        "ExecuteTime": {
          "end_time": "2020-01-22T22:23:22.268016Z",
          "start_time": "2020-01-22T22:23:18.869Z"
        },
        "id": "l6mSzUxvhxY9",
        "colab_type": "code",
        "colab": {}
      },
      "source": [
        "model = Model(inputs=[encoder_inputs, decoder_inputs], outputs=decoder_outputs)\n",
        "\n",
        "model.compile(optimizer='adam',\n",
        "             loss=mse_nan,\n",
        "             metrics=[mse_nan])"
      ],
      "execution_count": 0,
      "outputs": []
    },
    {
      "cell_type": "code",
      "metadata": {
        "ExecuteTime": {
          "end_time": "2020-01-22T22:23:22.271537Z",
          "start_time": "2020-01-22T22:23:18.885Z"
        },
        "id": "ntiMsXovhxZE",
        "colab_type": "code",
        "outputId": "ff831f56-01e9-4412-b24c-9d8e16730fea",
        "colab": {
          "base_uri": "https://localhost:8080/",
          "height": 694
        }
      },
      "source": [
        "model.summary()"
      ],
      "execution_count": 0,
      "outputs": [
        {
          "output_type": "stream",
          "text": [
            "Model: \"model_6\"\n",
            "__________________________________________________________________________________________________\n",
            "Layer (type)                    Output Shape         Param #     Connected to                     \n",
            "==================================================================================================\n",
            "input_6 (InputLayer)            [(None, 36, 44)]     0                                            \n",
            "__________________________________________________________________________________________________\n",
            "lstm_6 (LSTM)                   [(None, 36, 32), (No 9856        input_6[0][0]                    \n",
            "__________________________________________________________________________________________________\n",
            "input_10 (InputLayer)           [(None, None, 3)]    0                                            \n",
            "__________________________________________________________________________________________________\n",
            "lstm_7 (LSTM)                   [(None, 36, 32), (No 8320        lstm_6[0][0]                     \n",
            "                                                                 lstm_6[0][1]                     \n",
            "                                                                 lstm_6[0][2]                     \n",
            "__________________________________________________________________________________________________\n",
            "lstm_9 (LSTM)                   [(None, None, 32), ( 4608        input_10[0][0]                   \n",
            "                                                                 lstm_7[0][1]                     \n",
            "                                                                 lstm_7[0][2]                     \n",
            "__________________________________________________________________________________________________\n",
            "dot_8 (Dot)                     (None, None, 36)     0           lstm_9[0][0]                     \n",
            "                                                                 lstm_7[0][0]                     \n",
            "__________________________________________________________________________________________________\n",
            "activation_4 (Activation)       (None, None, 36)     0           dot_8[0][0]                      \n",
            "__________________________________________________________________________________________________\n",
            "dot_9 (Dot)                     (None, None, 32)     0           activation_4[0][0]               \n",
            "                                                                 lstm_7[0][0]                     \n",
            "__________________________________________________________________________________________________\n",
            "concatenate_6 (Concatenate)     (None, None, 64)     0           dot_9[0][0]                      \n",
            "                                                                 lstm_9[0][0]                     \n",
            "__________________________________________________________________________________________________\n",
            "dense_4 (Dense)                 (None, None, 50)     3250        concatenate_6[0][0]              \n",
            "__________________________________________________________________________________________________\n",
            "dropout_2 (Dropout)             (None, None, 50)     0           dense_4[0][0]                    \n",
            "__________________________________________________________________________________________________\n",
            "dense_5 (Dense)                 (None, None, 3)      153         dropout_2[0][0]                  \n",
            "==================================================================================================\n",
            "Total params: 26,187\n",
            "Trainable params: 26,187\n",
            "Non-trainable params: 0\n",
            "__________________________________________________________________________________________________\n"
          ],
          "name": "stdout"
        }
      ]
    },
    {
      "cell_type": "code",
      "metadata": {
        "ExecuteTime": {
          "end_time": "2020-01-22T22:23:22.274823Z",
          "start_time": "2020-01-22T22:23:18.889Z"
        },
        "id": "s-a_AnSthxZQ",
        "colab_type": "code",
        "colab": {}
      },
      "source": [
        "#define inference ('inf') model:\n",
        "encoder_model = Model(encoder_inputs, [encoder_outputs,encoder_states]) \n",
        "# ^^^ set up a separate encoding model. This just outputs our encoder states\n",
        "\n",
        "inf_encoder_outputs, inf_encoder_states = encoder_model(encoder_inputs)\n",
        "\n",
        "decoder_state_input_h = Input(shape=(n_units,)) # define shape of hidden state\n",
        "decoder_state_input_c = Input(shape=(n_units,)) # same thing here for cell state\n",
        "decoder_states_inputs = [decoder_state_input_h, decoder_state_input_c]\n",
        "# ^^^ set as state shapes, which tells our decoder to accepts inputs states of the specificed size\n",
        "\n",
        "# create our decoding layer. accepts same shape as decoder inputs and encoder states\n",
        "inf_decoder_outputs, inf_state_h, inf_state_c = decoder_lstm(decoder_inputs, initial_state=decoder_states_inputs)\n",
        "\n",
        "# save decoder output states. We'll use these as the input states for our decoder for predicting each next timestep\n",
        "# after the initial input of our encoder states\n",
        "decoder_states = [inf_state_h, inf_state_c]\n",
        "\n",
        "inf_attention = dot([inf_decoder_outputs, inf_encoder_outputs], axes=[2, 2])\n",
        "inf_attention2 = Activation('softmax')(inf_attention)\n",
        "\n",
        "inf_context = dot([inf_attention2, inf_encoder_outputs], axes=[2,1])\n",
        "inf_decoder_combined_context = concatenate([inf_context, inf_decoder_outputs])\n",
        "\n",
        "\n",
        "inf_dense1 = decoder_dense1(inf_decoder_combined_context)\n",
        "inf_drop = dropout(inf_dense1)\n",
        "\n",
        "inf_final_outputs = decoder_dense2(inf_drop)\n",
        "# finally, instantiate our decoder model. Inputs are the original sequence + the encoder states. \n",
        "# outputs: sequence prediction + the states used for the decoder\n",
        "decoder_model = Model([encoder_inputs,decoder_inputs] + decoder_states_inputs, [inf_final_outputs]+decoder_states)"
      ],
      "execution_count": 0,
      "outputs": []
    },
    {
      "cell_type": "code",
      "metadata": {
        "ExecuteTime": {
          "end_time": "2020-01-22T22:23:22.277273Z",
          "start_time": "2020-01-22T22:23:18.894Z"
        },
        "id": "sZvx8u6VhxZV",
        "colab_type": "code",
        "outputId": "948e4a38-61a3-4e30-bd6f-90bb44e376d0",
        "colab": {
          "base_uri": "https://localhost:8080/",
          "height": 694
        }
      },
      "source": [
        "decoder_model.summary()"
      ],
      "execution_count": 0,
      "outputs": [
        {
          "output_type": "stream",
          "text": [
            "Model: \"model_8\"\n",
            "__________________________________________________________________________________________________\n",
            "Layer (type)                    Output Shape         Param #     Connected to                     \n",
            "==================================================================================================\n",
            "input_10 (InputLayer)           [(None, None, 3)]    0                                            \n",
            "__________________________________________________________________________________________________\n",
            "input_11 (InputLayer)           [(None, 32)]         0                                            \n",
            "__________________________________________________________________________________________________\n",
            "input_12 (InputLayer)           [(None, 32)]         0                                            \n",
            "__________________________________________________________________________________________________\n",
            "input_6 (InputLayer)            [(None, 36, 44)]     0                                            \n",
            "__________________________________________________________________________________________________\n",
            "lstm_9 (LSTM)                   [(None, None, 32), ( 4608        input_10[0][0]                   \n",
            "                                                                 input_11[0][0]                   \n",
            "                                                                 input_12[0][0]                   \n",
            "__________________________________________________________________________________________________\n",
            "model_7 (Model)                 [(None, 36, 32), [(N 18176       input_6[0][0]                    \n",
            "__________________________________________________________________________________________________\n",
            "dot_10 (Dot)                    (None, None, 36)     0           lstm_9[1][0]                     \n",
            "                                                                 model_7[1][0]                    \n",
            "__________________________________________________________________________________________________\n",
            "activation_5 (Activation)       (None, None, 36)     0           dot_10[0][0]                     \n",
            "__________________________________________________________________________________________________\n",
            "dot_11 (Dot)                    (None, None, 32)     0           activation_5[0][0]               \n",
            "                                                                 model_7[1][0]                    \n",
            "__________________________________________________________________________________________________\n",
            "concatenate_7 (Concatenate)     (None, None, 64)     0           dot_11[0][0]                     \n",
            "                                                                 lstm_9[1][0]                     \n",
            "__________________________________________________________________________________________________\n",
            "dense_4 (Dense)                 (None, None, 50)     3250        concatenate_7[0][0]              \n",
            "__________________________________________________________________________________________________\n",
            "dropout_2 (Dropout)             (None, None, 50)     0           dense_4[1][0]                    \n",
            "__________________________________________________________________________________________________\n",
            "dense_5 (Dense)                 (None, None, 3)      153         dropout_2[1][0]                  \n",
            "==================================================================================================\n",
            "Total params: 26,187\n",
            "Trainable params: 26,187\n",
            "Non-trainable params: 0\n",
            "__________________________________________________________________________________________________\n"
          ],
          "name": "stdout"
        }
      ]
    },
    {
      "cell_type": "code",
      "metadata": {
        "ExecuteTime": {
          "end_time": "2020-01-22T22:58:37.863377Z",
          "start_time": "2020-01-22T22:58:37.793834Z"
        },
        "id": "JBzLqzyqhxZd",
        "colab_type": "code",
        "colab": {}
      },
      "source": [
        "# Let's define a small function that predicts based on the trained encoder and decoder models\n",
        "# Function also adapted from https://github.com/LukeTonin/keras-seq-2-seq-signal-prediction\n",
        "def predict(x, encoder_predict_model, decoder_predict_model, num_steps_to_predict, \n",
        "            num_features_to_predict, batch_size=None):\n",
        "    \"\"\"Predict time series with encoder-decoder.\n",
        "    \n",
        "    Uses the encoder and decoder models previously trained to predict the next\n",
        "    num_steps_to_predict values of the time series.\n",
        "    \n",
        "    Arguments\n",
        "    ---------\n",
        "    x: input time series of shape (batch_size, input_sequence_length, input_dimension).\n",
        "    encoder_predict_model: The Keras encoder model.\n",
        "    decoder_predict_model: The Keras decoder model.\n",
        "    num_steps_to_predict: The number of steps in the future to predict\n",
        "    num_features_to_predict: The number of features we want to predict per timestep\n",
        "    \n",
        "    Returns\n",
        "    -------\n",
        "    y_predicted: output time series for shape (batch_size, target_sequence_length,\n",
        "        ouput_dimension)\n",
        "    \"\"\"\n",
        "    y_predicted = []\n",
        "\n",
        "    # Encode the values as a state vector\n",
        "    enc_outputs_and_states = encoder_predict_model.predict(x,batch_size=batch)\n",
        "    #print(len(enc_outputs_and_states))\n",
        "\n",
        "    # The states must be a list\n",
        "    if not isinstance(enc_outputs_and_states, list):\n",
        "        enc_outputs_and_states = [enc_outputs_and_states]\n",
        "\n",
        "    enc_outputs = enc_outputs_and_states[0]\n",
        "    states = enc_outputs_and_states[1:]\n",
        "    #decoder_input = np.zeros((x.shape[0], 1, num_features_to_predict))\n",
        "    decoder_input = x[:,-1:,-num_features_to_predict:] \n",
        "    # '-num_features_to_predict:' assumes the targets are the final columns\n",
        "\n",
        "    for _ in range(num_steps_to_predict):\n",
        "        outputs_and_states = decoder_predict_model.predict(\n",
        "        [x, decoder_input] + states, batch_size=batch)\n",
        "        output = outputs_and_states[0]\n",
        "        states = outputs_and_states[1:]\n",
        "\n",
        "        # add predicted value\n",
        "        y_predicted.append(output)\n",
        "\n",
        "\n",
        "    return np.concatenate(y_predicted, axis=1)\n",
        "    "
      ],
      "execution_count": 0,
      "outputs": []
    },
    {
      "cell_type": "code",
      "metadata": {
        "ExecuteTime": {
          "end_time": "2020-01-22T22:23:35.172641Z",
          "start_time": "2020-01-22T22:23:30.880461Z"
        },
        "scrolled": true,
        "id": "1NQ4kvBRhxZi",
        "colab_type": "code",
        "colab": {}
      },
      "source": [
        "for i in range(2000):\n",
        "    print('epoch: '+str(i))\n",
        "    model.fit([train_features,train_features[:,-36:,-3:]], train_targets, \n",
        "              epochs=1, batch_size=100, verbose=0, shuffle=True)\n",
        "    #model.reset_states()"
      ],
      "execution_count": 0,
      "outputs": []
    },
    {
      "cell_type": "markdown",
      "metadata": {
        "id": "aAwzmwcEhxZu",
        "colab_type": "text"
      },
      "source": [
        "Evaluate Model"
      ]
    },
    {
      "cell_type": "code",
      "metadata": {
        "ExecuteTime": {
          "end_time": "2020-01-22T22:58:52.756325Z",
          "start_time": "2020-01-22T22:58:51.031435Z"
        },
        "id": "DM5l6E8YhxZ7",
        "colab_type": "code",
        "colab": {}
      },
      "source": [
        "predictions = predict(test_features, encoder_model, decoder_model, \n",
        "                      num_steps_to_predict=train_targets.shape[1], num_features_to_predict=train_targets.shape[2],\n",
        "                     batch_size=None)"
      ],
      "execution_count": 0,
      "outputs": []
    },
    {
      "cell_type": "code",
      "metadata": {
        "ExecuteTime": {
          "end_time": "2020-01-22T22:59:08.290943Z",
          "start_time": "2020-01-22T22:58:56.226534Z"
        },
        "id": "q5GA-BpVhxaT",
        "colab_type": "code",
        "outputId": "92fdad65-74cc-4075-ead6-6c955656f6f7",
        "colab": {
          "base_uri": "https://localhost:8080/",
          "height": 208
        }
      },
      "source": [
        "tests, preds = rescale(test_features, test_targets, predictions, data_scaling, test_indices)\n",
        "score, scores = evaluate_forecasts(tests.values, preds.values)\n",
        "\n",
        "#generate naive predictions\n",
        "naive_preds = naive_forecast(tests.values,1,24)\n",
        "naive_preds = pd.DataFrame(naive_preds, index=tests.index)\n",
        "\n",
        "#evaluate model performance on RMSE of just hazardous pore pressure values\n",
        "print(\"\\nLSTM Performance:\")\n",
        "y_pos, pred_pos, rmse, diff_array = threshold_rmse_eval(tests.values,preds.values,-0.5)\n",
        "print(\"Naive Comparison:\")\n",
        "y_pos_naive, naive_pos, naive_rmse, naive_diff_array = threshold_rmse_eval(tests.values,naive_preds.values,-0.5)"
      ],
      "execution_count": 0,
      "outputs": [
        {
          "output_type": "stream",
          "text": [
            "Test data still have NaN values present. Deleting...\n",
            "Current shape: (7884, 3)\n",
            "New shape: (6268, 3)\n",
            "test data new shape: (6268, 3)\n",
            "prediction new shape: (6268, 3)\n",
            "[0.7944141615003871, 0.5427275657590844, 0.4418120297301256]\n",
            "\n",
            "LSTM Performance:\n",
            "per target rmse: [0.9510318915451141, 0.6910694232942018, 0.5166702276779271]\n",
            "Naive Comparison:\n",
            "per target rmse: [1.4094209756375715, 1.123661870849056, 0.8661832724882542]\n"
          ],
          "name": "stdout"
        }
      ]
    },
    {
      "cell_type": "code",
      "metadata": {
        "ExecuteTime": {
          "end_time": "2020-01-22T23:00:37.169878Z",
          "start_time": "2020-01-22T22:59:41.756027Z"
        },
        "scrolled": false,
        "id": "IRu92f9ihxag",
        "colab_type": "code",
        "outputId": "a9f102d3-1c33-4e34-9585-8942d22b6212",
        "colab": {
          "base_uri": "https://localhost:8080/",
          "height": 781
        }
      },
      "source": [
        "import matplotlib.lines as mlines\n",
        "\n",
        "start = pd.to_datetime('2012-01-14')\n",
        "end = pd.to_datetime('2012-02-14')\n",
        "#messy plot of rainfall and test data/predictions. I've been messing with the y axis range to help clean it up\n",
        "col_list = ['Soil Matric Potential',\n",
        "       'Pore Water Pressures - 113cm', 'Pore Water Pressures - 244cm']\n",
        "fig, ax = plt.subplots(3,1,figsize=(8,10),sharex=True)\n",
        "i = 1\n",
        "for col in col_list:\n",
        "    while i < (len(col_list)+1):\n",
        "        print(i)\n",
        "        ax1 = ax[i-1]\n",
        "        ax1.plot(preds.iloc[:, i-1],c='g', label='Predictions')\n",
        "        ax1.plot(tests.iloc[:, i-1],c='k', label='Test Data')\n",
        "        #ax1.plot(naive_preds.iloc[:, i-1],c='b', label='Naive Predictions')\n",
        "        ax1.scatter(target_indices,intervals,c='k',marker='|',s=50,alpha=0.5)\n",
        "        ax1.set_xlim(start,end)\n",
        "        ax1.set_ylim(-12,3.5)\n",
        "        #ax1.set_ylabel('Suction (kPa)')\n",
        "        ax1.xaxis.set_visible(True)\n",
        "        #plt.legend(handles=[green_line,black_line],bbox_to_anchor=(-0.05, 1))\n",
        "        ax1.set_xticklabels(test_indices,rotation = 45)\n",
        "        ax1.tick_params(axis='both', labelcolor='k',labelsize=13)\n",
        "        \n",
        "        \n",
        "        ax2 = ax1.twinx()  # instantiate a second axes that shares the same x-axis\n",
        "\n",
        "        color = 'royalblue'\n",
        "        #ax2.set_ylabel('Rainfall (mm)', color=color)  # we already handled the x-label with ax1\n",
        "        #ax2.bar(preds.index, ocr.loc[preds.index,'RG_mm'], color=color,alpha=0.8,width=0.2)\n",
        "        ax2.tick_params(axis='y', labelcolor=color,labelsize=13)\n",
        "        ax2.set_ylim(0.8,14)\n",
        "        \n",
        "        #plt.plot(ocr.iloc[test_indices,0])\n",
        "        #plt.plot(naive_preds.iloc[:, i-1], label='Naive Predicitons')\n",
        "        #plt.title((col_list[i-1]))\n",
        "        green_line = mlines.Line2D([], [], color='g', marker='',\n",
        "                          markersize=15, label='Predictions')\n",
        "        black_line = mlines.Line2D([], [], color='k', marker='',\n",
        "                          markersize=15, label='Observed Pressures')\n",
        "        vert = mlines.Line2D([], [], color='k', marker='|',alpha=0.5,\n",
        "                          markersize=15, label='Prediction Interval (36hr)')\n",
        "        vert.set_linestyle('')\n",
        "        #if i ==1:\n",
        "            #plt.legend(handles=[green_line,black_line,vert],loc='upper center',\n",
        "             #        fontsize='small',bbox_to_anchor=(0.52,1.01),ncol=3,\n",
        "              #       markerscale=1.3,frameon=False)\n",
        "            #plt.title((col_list[i-1]))\n",
        "        #plt.setp(ax1.get_xticklabels(True,\"major\"), visible=True)\n",
        "        \n",
        "        #plt.ylim(-10,2)\n",
        "        #plt.legend()\n",
        "        i += 1\n",
        "        \n",
        "        \n",
        "        \n",
        "\n",
        "\n",
        "plt.tight_layout()\n",
        "\n",
        "#plt.savefig('36hr_36_24_d75dr50_JF_UPDATE.svg',dpi=300,frameon=True)\n",
        "plt.show()"
      ],
      "execution_count": 0,
      "outputs": [
        {
          "output_type": "stream",
          "text": [
            "1\n",
            "2\n",
            "3\n"
          ],
          "name": "stdout"
        },
        {
          "output_type": "display_data",
          "data": {
            "image/png": "[encoded data removed]",
            "text/plain": [
              "<Figure size 576x720 with 6 Axes>"
            ]
          },
          "metadata": {
            "tags": [],
            "needs_background": "light"
          }
        }
      ]
    },
    {
      "cell_type": "code",
      "metadata": {
        "id": "56gRuKPTog9X",
        "colab_type": "code",
        "outputId": "ed502caf-2e22-4c49-bc48-cd2bc1fd3a39",
        "colab": {
          "base_uri": "https://localhost:8080/",
          "height": 709
        }
      },
      "source": [
        "from sklearn.metrics import r2_score\n",
        "from scipy.stats import linregress\n",
        "\n",
        "\n",
        "col_list = ['Pore Water Pressures - 63cm',\n",
        "       'Pore Water Pressures - 113cm', 'Pore Water Pressures - 244cm']\n",
        "fig, ax = plt.subplots(3,1,figsize=(6,8),sharex=False)\n",
        "i = 1\n",
        "for col in col_list:\n",
        "    while i < (len(col_list)+1):\n",
        "      x = np.linspace(np.nanmin(tests.iloc[:,i-1]),np.nanmax(tests.iloc[:,i-1]),100)\n",
        "      y = x\n",
        "      ax1 = ax[i-1]\n",
        "      ax1.plot(x,y,c='k')\n",
        "      ax1.scatter(tests.iloc[:,i-1],preds.iloc[:,i-1],c='slategrey',\n",
        "                  s=15,alpha=0.4)\n",
        "      \n",
        "      r2 = r2_score(tests.iloc[:,i-1],preds.iloc[:,i-1])\n",
        "      print(linregress(tests.iloc[:,i-1], preds.iloc[:,i-1]))\n",
        "      slope, intercept, r_value, p_value, std_err = linregress(tests.iloc[:,i-1],\n",
        "                                                               preds.iloc[:,i-1])\n",
        "      print(slope)\n",
        "      ax1.annotate(('R = '+'{0:.3f}'.format((r_value))),(0.75,0.2),None,'axes fraction')\n",
        "\n",
        "      #ax1.annotate(('Slope = '+'{0:.3f}'.format((slope))),(0.10,0.72),None,'axes fraction')\n",
        "      #if i == 1:\n",
        "        #ax1.set_title('Soil Matric Potential - Observed vs. Predicted Comparison')\n",
        "      ax1.set_ylabel('Predicted (kPa)')\n",
        "      ax1.set_xlabel('Observed Value (kPa)')\n",
        "\n",
        "      i = i+1\n",
        "\n",
        "plt.tight_layout()\n",
        "#plt.savefig('36hr_36_24_d75dr50_cor_plot_SMALLER.svg',dpi=300)"
      ],
      "execution_count": 0,
      "outputs": [
        {
          "output_type": "stream",
          "text": [
            "LinregressResult(slope=1.1365812914422624, intercept=0.40878898255905805, rvalue=0.9716398204286968, pvalue=0.0, stderr=0.0034943651177795102)\n",
            "1.1365812914422624\n",
            "LinregressResult(slope=0.9901123212063773, intercept=-0.12098055668556595, rvalue=0.9408548459398747, pvalue=0.0, stderr=0.004504252781928732)\n",
            "0.9901123212063773\n",
            "LinregressResult(slope=1.0582515139794821, intercept=-0.10388030128207748, rvalue=0.9591500125357872, pvalue=0.0, stderr=0.00394309259653622)\n",
            "1.0582515139794821\n"
          ],
          "name": "stdout"
        },
        {
          "output_type": "display_data",
          "data": {
            "image/png": "[encoded data removed]",
            "text/plain": [
              "<Figure size 432x576 with 3 Axes>"
            ]
          },
          "metadata": {
            "tags": [],
            "needs_background": "light"
          }
        }
      ]
    }
  ]
}