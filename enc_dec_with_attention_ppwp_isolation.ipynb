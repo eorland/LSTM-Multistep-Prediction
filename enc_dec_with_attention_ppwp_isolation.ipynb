{
  "nbformat": 4,
  "nbformat_minor": 0,
  "metadata": {
    "kernelspec": {
      "name": "python3",
      "display_name": "Python 3"
    },
    "language_info": {
      "codemirror_mode": {
        "name": "ipython",
        "version": 3
      },
      "file_extension": ".py",
      "mimetype": "text/x-python",
      "name": "python",
      "nbconvert_exporter": "python",
      "pygments_lexer": "ipython3",
      "version": "3.7.4"
    },
    "colab": {
      "name": "enc_dec_with_attention_ppwp_isolation.ipynb",
      "provenance": [],
      "collapsed_sections": []
    },
    "accelerator": "GPU"
  },
  "cells": [
    {
      "cell_type": "code",
      "metadata": {
        "ExecuteTime": {
          "end_time": "2020-01-22T22:44:13.832760Z",
          "start_time": "2020-01-22T22:44:13.722630Z"
        },
        "id": "8B-ONIu6hxWH",
        "colab_type": "code",
        "outputId": "9b15cfc3-2e4c-4583-8547-df1af677b127",
        "colab": {
          "base_uri": "https://localhost:8080/",
          "height": 52
        }
      },
      "source": [
        "#everything we will import to use later\n",
        "import os\n",
        "import numpy as np\n",
        "import pandas as pd\n",
        "from matplotlib import pyplot as plt\n",
        "from tensorflow.keras.models import model_from_json\n",
        "%matplotlib inline\n",
        "\n",
        "import tensorflow.compat.v1 as tf\n",
        "from tensorflow.keras import backend as K\n",
        "from tensorflow.keras import Model\n",
        "from tensorflow.keras.layers import *\n",
        "from tensorflow.keras.wrappers.scikit_learn import KerasRegressor\n",
        "from sklearn import preprocessing\n",
        "from sklearn.metrics import mean_squared_error\n",
        "#check our version\n",
        "print(tf.VERSION)\n",
        "print(tf.keras.__version__)"
      ],
      "execution_count": 1,
      "outputs": [
        {
          "output_type": "stream",
          "text": [
            "2.2.0-rc4\n",
            "2.3.0-tf\n"
          ],
          "name": "stdout"
        }
      ]
    },
    {
      "cell_type": "code",
      "metadata": {
        "id": "Em6RMwSKigzV",
        "colab_type": "code",
        "outputId": "1f6b5b63-3ac2-43c5-a994-eb5674c66188",
        "colab": {
          "base_uri": "https://localhost:8080/",
          "height": 34
        }
      },
      "source": [
        "device_name = tf.test.gpu_device_name()\n",
        "if device_name != '/device:GPU:0':\n",
        "  raise SystemError('GPU device not found')\n",
        "print('Found GPU at: {}'.format(device_name))"
      ],
      "execution_count": 2,
      "outputs": [
        {
          "output_type": "stream",
          "text": [
            "Found GPU at: /device:GPU:0\n"
          ],
          "name": "stdout"
        }
      ]
    },
    {
      "cell_type": "code",
      "metadata": {
        "ExecuteTime": {
          "end_time": "2020-01-22T22:44:14.097519Z",
          "start_time": "2020-01-22T22:44:14.051319Z"
        },
        "id": "VUuCin7PhxWY",
        "colab_type": "code",
        "colab": {}
      },
      "source": [
        "def rescale(feature_data,test_targets,predictions, scaling_object,index):\n",
        "    '''Flattens and rescales test and prediction data back to the original scale.\n",
        "    Given that the test data and predictions do not have the same shape as the original feature data, we need \n",
        "    to \"pad\" these two datasets with the original column numbers of the feature data, \n",
        "    as well as have the test and prediction data occupy the same positions of their respective \n",
        "    target data columns so the rescale is done properly. \n",
        "    The below code includes one way to correctly do this padding.\n",
        "    \n",
        "    INPUTS: training or test feature data (it doesn't matter--we just need the same number of columns)\n",
        "    test targets, and predictions, all in 3D tensor form. Also, the scaling object used \n",
        "    for the original transformation'''\n",
        "    \n",
        "    #flatten predictions and test data\n",
        "    predict_flat = predictions.reshape(predictions.shape[0]*predictions.shape[1],predictions.shape[2])\n",
        "    y_test_flat = test_targets.reshape(test_targets.shape[0]*test_targets.shape[1],test_targets.shape[2])\n",
        "\n",
        "    #flatten the features dataframe. This has the dimensions we want.\n",
        "    flattened_features = pd.DataFrame(feature_data.reshape(feature_data.shape[0]*feature_data.shape[1],\n",
        "                                                           feature_data.shape[2]))\n",
        "    \n",
        "    #if we want to predict long sequences these will likely be longer than the length of the features.\n",
        "    #we just add some zeros here to pad out the feature length to match. We'll then convert these to NaN's\n",
        "    #so they're ignored. Again, we just want to inherient the 7 col \n",
        "    #structure of the feature data--not the values. This is the most foolproof method\n",
        "    #I've found through trial and error.\n",
        "    \n",
        "    if len(flattened_features) < len(y_test_flat):\n",
        "        print('Length of targets exceeds length of features. Now padding...\\n')\n",
        "        extra_rows = pd.DataFrame(np.zeros((len(y_test_flat),flattened_features.shape[1])))\n",
        "        flattened_features = pd.concat([flattened_features,extra_rows],axis=0)\n",
        "        flattened_features[flattened_features==0]=np.nan\n",
        "        \n",
        "    #make a start column, this is the index where we begin to repopulate the target cols with the \n",
        "    #data we want to rescale\n",
        "    start_col = feature_data.shape[2]-test_targets.shape[2]\n",
        "    total_col = feature_data.shape[2]\n",
        "    \n",
        "    #make trimmed feature copies of equal length as the test data and predictions lengths, \n",
        "    #and leave out the original target data... we will replace these cols with the test and prediction data\n",
        "    flattened_features_test_copy = flattened_features.iloc[:len(y_test_flat),:start_col]\n",
        "    flattened_features_pred_copy = flattened_features.iloc[:len(y_test_flat),:start_col]\n",
        "    #print((flattened_features_pred_copy.values))\n",
        "    \n",
        "    for i in range(start_col,total_col):\n",
        "        #reassign targets cols\n",
        "        flattened_features_test_copy[i] = y_test_flat[:,i-start_col] \n",
        "        flattened_features_pred_copy[i] = predict_flat[:,i-start_col]\n",
        "        #by specifying 'i - start col', we are making sure the target column being \n",
        "        #repopulated is the matching target taken from the test data or predictions.\n",
        "        #Ex: if the start col is 4, then we want to assign the first column of the test and pred data--\n",
        "        #this is index 0, and 4-4 = 0.\n",
        "        \n",
        "    #We now have the correct dimensions, so we can FINALLY rescale\n",
        "    y_test_rescale = scaling_object.inverse_transform(flattened_features_test_copy)\n",
        "    preds_rescale = scaling_object.inverse_transform(flattened_features_pred_copy)\n",
        "    \n",
        "    #just grab the target cols.\n",
        "    y_test_rescale = y_test_rescale[:,start_col:]\n",
        "    preds_rescale = preds_rescale[:,start_col:]\n",
        "    \n",
        "    preds_rescale = pd.DataFrame(preds_rescale,index=index)\n",
        "    y_test_rescale = pd.DataFrame(y_test_rescale,index=index)\n",
        "    \n",
        "    \n",
        "     #before we return the dataframes, check and see if predictions or test data have null values.\n",
        "    if preds_rescale.isnull().values.any()==True:\n",
        "        print('Keras predictions have NaN values present. Deleting...')\n",
        "        print('Current shape: ' + str(preds_rescale.shape))\n",
        "        nans = np.argwhere(np.isnan(preds_rescale.values)) #find nulls\n",
        "        #delete make sure values are deleted from both\n",
        "        y_test_rescale = np.delete(y_test_rescale.values, nans,axis=0)\n",
        "        preds_rescale = np.delete(preds_rescale.values, nans, axis=0)\n",
        "        index = np.delete(index, nans, axis=0)\n",
        "        #turn back into dataframe in case next condition is also true\n",
        "        preds_rescale = pd.DataFrame(preds_rescale, index=index) \n",
        "        y_test_rescale = pd.DataFrame(y_test_rescale, index=index)\n",
        "        print('New Shape: ' + str(preds_rescale.shape))\n",
        "        \n",
        "    \n",
        "    if y_test_rescale.isnull().values.any()==True:\n",
        "        print('Test data still have NaN values present. Deleting...')\n",
        "        print('Current shape: ' + str(y_test_rescale.shape))\n",
        "        nans = np.argwhere(np.isnan(y_test_rescale.values)) \n",
        "        #same as above\n",
        "        y_test_rescale = np.delete(y_test_rescale.values, nans,axis=0)\n",
        "        preds_rescale = np.delete(preds_rescale.values, nans, axis=0)\n",
        "        index = np.delete(index, nans, axis=0)\n",
        "        # make into DataFrame this time to guarantee the below return statement won't spit an error\n",
        "        y_test_rescale = pd.DataFrame(y_test_rescale,index=index)\n",
        "        preds_rescale = pd.DataFrame(preds_rescale,index=index)\n",
        "        print('New shape: ' + str(y_test_rescale.shape))\n",
        "    \n",
        "    print('test data new shape: ' + str(y_test_rescale.shape))\n",
        "    print('prediction new shape: ' + str(preds_rescale.shape))\n",
        "    return y_test_rescale,preds_rescale"
      ],
      "execution_count": 0,
      "outputs": []
    },
    {
      "cell_type": "code",
      "metadata": {
        "ExecuteTime": {
          "end_time": "2020-01-22T22:44:14.641423Z",
          "start_time": "2020-01-22T22:44:14.544395Z"
        },
        "id": "QvYLVu14hxWj",
        "colab_type": "code",
        "colab": {}
      },
      "source": [
        "def lstm_prep(data_index,data,ntargets,ninputs,noutputs=1,show_progress=False):\n",
        "    '''Prepares and reshapes data for use with an LSTM. Outputs features, targets,\n",
        "    and the original data indices of your target values for visualization later. Requires that \n",
        "    the targets are the last N columns in your dataset.\n",
        "    \n",
        "    NOTE: The applies a moving window approach at intervals of the output steps, such that \n",
        "    you group the previous timesteps of inputs for your features (whatever length you choose),set the next \n",
        "    X timesteps of target values as outputs (again, whatever you want), and then move the window X (noutputs)\n",
        "    timesteps in the future to repeat the process. Analogous to a cnn kernal with a stride equal to the output length. \n",
        "    I wrote this to automate and quickly change between varying input and output sequence lengths, \n",
        "    but wanted to avoid overlapping values typical in a moving window approach. \n",
        "    Having these non-overlapping values just makes plotting easier. \n",
        "    So far I have yet to see a need for more samples, which I understand is why the \n",
        "    moving window approach is typicallyimplemented.'''\n",
        "    \n",
        "    target_data = data[:,-ntargets:]\n",
        "    features = np.empty((ninputs,data.shape[1]), int)\n",
        "    targets = np.empty((noutputs,ntargets),int)\n",
        "    for i in range(ninputs,(len(data)-noutputs),noutputs): \n",
        "        if show_progress==True:\n",
        "            print('current index: '+str(i))\n",
        "            print('feature indices: '+str(i-ninputs)+' to '+str(i-1))\n",
        "            print('target indices: '+str(i)+' to '+str(i+noutputs-1))\n",
        "        #print(i)\n",
        "        temp_feature_matrix = data[(i-ninputs):i]\n",
        "        temp_target_matrix = target_data[(i):(i+noutputs)]\n",
        "        #print(i+noutputs)\n",
        "        features = np.vstack((features, temp_feature_matrix))\n",
        "        targets = np.vstack((targets,temp_target_matrix))\n",
        "    \n",
        "    last_index = i+noutputs\n",
        "    features = features.reshape((int(features.shape[0]/ninputs),ninputs,features.shape[1]))\n",
        "    targets = targets.reshape(int(targets.shape[0]/noutputs),noutputs,targets.shape[1])\n",
        "    \n",
        "    target_indices = data_index[ninputs:last_index]\n",
        "    \n",
        "    return features[1:], targets[1:], target_indices\n",
        "\n",
        "def rectify_cnn_data(predictions, targets, num_targets, noutputs):\n",
        "    preds = np.empty((noutputs,num_targets), int)\n",
        "    tests = np.empty((noutputs,num_targets), int)\n",
        "    for row in range(0,predictions.shape[0]):\n",
        "        pred_t = np.transpose(np.array(np.split(predictions[row],num_targets)))\n",
        "        #print('preds: '+ str(pred_t))\n",
        "        preds = np.vstack((preds, pred_t))\n",
        "\n",
        "        test_t = np.transpose(np.array(np.split(targets[row],num_targets)))\n",
        "        #print('tests: '+ str(test_t))\n",
        "        tests = np.vstack((tests, test_t))\n",
        "    #print(preds)\n",
        "    return preds[noutputs:], tests[noutputs:]\n",
        "\n",
        "\n",
        "def mse_nan(y_true, y_pred):\n",
        "    masked_true = tf.where(tf.is_nan(y_true), tf.zeros_like(y_true), y_true)\n",
        "    masked_pred = tf.where(tf.is_nan(y_true), tf.zeros_like(y_true), y_pred)\n",
        "    return K.mean(K.square(masked_pred - masked_true), axis=-1)\n",
        "\n",
        "def mae_nan(y_true, y_pred):\n",
        "    masked_true = tf.where(tf.is_nan(y_true), tf.zeros_like(y_true), y_true)\n",
        "    masked_pred = tf.where(tf.is_nan(y_true), tf.zeros_like(y_true), y_pred)\n",
        "    return K.mean(abs(masked_pred - masked_true), axis=-1)\n",
        "\n",
        "\n",
        "def evaluate_forecasts(actual, predicted): #from Jason Brownlee's blog\n",
        "    scores = list()\n",
        "    # calculate an RMSE score for each day\n",
        "    for i in range(actual.shape[1]):\n",
        "        # calculate mse\n",
        "        mse = mean_squared_error(actual[:, i], predicted[:, i])\n",
        "        #print('mse: '+ str(mse))\n",
        "        # calculate rmse\n",
        "        rmse = np.sqrt(mse)\n",
        "        # store\n",
        "        scores.append(rmse)\n",
        "    # calculate overall RMSE\n",
        "    s = 0\n",
        "    for row in range(actual.shape[0]):\n",
        "        for col in range(actual.shape[1]):\n",
        "            s += (actual[row, col] - predicted[row, col])**2\n",
        "    score = np.sqrt(s / (actual.shape[0] * actual.shape[1]))\n",
        "    \n",
        "    print(scores)\n",
        "    return score, scores\n",
        "\n",
        "def threshold_rmse_eval(tests, preds, threshold):\n",
        "    pred_pos_all = []\n",
        "    y_pos_all = []\n",
        "    rmse = []\n",
        "    for i in range(preds.shape[1]):\n",
        "        #grab individual cols\n",
        "        data_slice_test = tests[:,i]\n",
        "        data_slice_pred = preds[:,i]\n",
        "        \n",
        "        if max(data_slice_test) < threshold:\n",
        "          print(\"Threshold too high for column: \"+str(i))\n",
        "          rmse.append('N/A')\n",
        "          y_pos_all.append('N/A')\n",
        "          pred_pos_all.append('N/A')\n",
        "          continue\n",
        "        \n",
        "        #This avoids a warning for the np.where query a couple of lines down...\n",
        "        test_nans = np.where(np.isnan(data_slice_test)) #find nans and replace with dummy value. \n",
        "        tests[test_nans] = threshold*100\n",
        "        \n",
        "        #find all values greater than or equal to your threshold value\n",
        "        pos_test = np.where(data_slice_test >= threshold)\n",
        "        y_pos = data_slice_test[pos_test] #get those values from the test data\n",
        "        pred_pos = data_slice_pred[pos_test] #get the equivalent values from the predictions\n",
        "\n",
        "        #calculate mse, rmse\n",
        "        mse = mean_squared_error(y_pos, pred_pos)\n",
        "        rmse_val = np.sqrt(mse)\n",
        "        \n",
        "        #append all values to our respective lists\n",
        "        rmse.append(rmse_val)\n",
        "        y_pos_all.append(y_pos)\n",
        "        pred_pos_all.append(pred_pos)\n",
        "    \n",
        "    print('per target rmse: ' + str(rmse))\n",
        "    return np.asarray(rmse),np.asarray(y_pos_all),np.asarray(pred_pos_all)\n",
        "    \n",
        "    #make a list of rmse per datapoint\n",
        "    diff_array = np.empty((1,tests.shape[1]),int)\n",
        "    for row in range(tests.shape[0]):\n",
        "        diffs = []\n",
        "        for col in range(tests.shape[1]):\n",
        "            #print(tests[row,col])\n",
        "            #print(preds[row,col])\n",
        "            diff = tests[row,col] - preds[row, col]\n",
        "            diffs.append(diff)\n",
        "        diffs = np.array(diffs)\n",
        "        diff_array = np.vstack((diff_array,diffs))\n",
        "    \n",
        "    return y_pos_all, pred_pos_all, rmse, diff_array[1:]\n",
        "\n",
        "def naive_forecast(test_data,backsteps,forward_steps):\n",
        "    back_array = np.arange(0,backsteps+1)\n",
        "    naive_preds = np.zeros(shape=(test_data.shape[0],test_data.shape[1]))\n",
        "    for row in range(0,test_data.shape[0],forward_steps):\n",
        "        #print(row)\n",
        "        for col in range(test_data.shape[1]):\n",
        "            if row in back_array:\n",
        "                naive_preds[row,col] = test_data[row,col]\n",
        "            else:\n",
        "                naive_preds[row,col] = np.mean(test_data[(row-backsteps):row,col])\n",
        "                for i in range(1,forward_steps):\n",
        "                    row_index = row+i\n",
        "                    if row_index == len(test_data):\n",
        "                        break\n",
        "                    else:\n",
        "                        naive_preds[(row_index),col] = np.mean(naive_preds[(row_index-backsteps):row_index,col])\n",
        "\n",
        "    return naive_preds\n",
        "\n",
        "def add_max_rainfall(data,interval,rain_col,noise=False):\n",
        "    #print(len(data))\n",
        "    '''takes times series data as input, and calculates the maximum and total rainfall values \n",
        "    for a fixed interval, based on the column index of your rainfall (rain_col).\n",
        "\n",
        "    This function assumes you are using pandas, but can be modified for numpy arrays, which will perform faster\n",
        "    for larger datasets'''\n",
        "    rain_total = np.array(np.zeros(len(data)))\n",
        "    rain_max = np.array(np.zeros(len(data)))\n",
        "    \n",
        "    if noise==True:\n",
        "      print('adding with noise')\n",
        "      for row in range(0,len(data),1):\n",
        "        print('no test')\n",
        "        if row >= (len(data) - interval):\n",
        "            rain_total[row] = (np.sum(data.iloc[row:len(data),rain_col]))*np.random.randint(0.75,1.25)\n",
        "            rain_max[row] = (max(data.iloc[row:len(data),rain_col]))*np.random.randint(0.75,1.25)\n",
        "            \n",
        "        rain_total[row] = np.sum(data.iloc[row:row+interval,rain_col])*np.random.randint(0.75,1.25)\n",
        "        rain_max[row] = max(data.iloc[row:row+interval,rain_col])*np.random.randint(0.75,1.25)\n",
        "\n",
        "\n",
        "\n",
        "    else:\n",
        "      #print('adding with no noise')\n",
        "      for row in range(0,len(data),1):\n",
        "          \n",
        "          if row >= (len(data) - interval):\n",
        "              rain_total[row] = np.sum(data.iloc[row:len(data),rain_col])\n",
        "              rain_max[row] = np.nanmax(data.iloc[row:len(data),rain_col])\n",
        "          \n",
        "          rain_total[row] = np.sum(data.iloc[row:row+interval,rain_col])\n",
        "          rain_max[row] = np.nanmax(data.iloc[row:row+interval,rain_col])\n",
        "          #print(np.nanmax(data.iloc[row:row+interval,rain_col]))\n",
        "\n",
        "    data[str(interval)+'hr_total_rfall'] = rain_total\n",
        "    data[str(interval)+'hr_max_rfall'] = rain_max\n",
        "    \n",
        "    return data"
      ],
      "execution_count": 0,
      "outputs": []
    },
    {
      "cell_type": "code",
      "metadata": {
        "id": "6FQeEeb5iA7T",
        "colab_type": "code",
        "outputId": "57ccf1cd-30b6-46cc-fa78-dca5e7580391",
        "colab": {
          "resources": {
            "http://localhost:8080/nbextensions/google.colab/files.js": {
              "data": "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",
              "ok": true,
              "headers": [
                [
                  "content-type",
                  "application/javascript"
                ]
              ],
              "status": 200,
              "status_text": "OK"
            }
          },
          "base_uri": "https://localhost:8080/",
          "height": 71
        }
      },
      "source": [
        "from google.colab import files\n",
        "uploaded = files.upload()"
      ],
      "execution_count": 5,
      "outputs": [
        {
          "output_type": "display_data",
          "data": {
            "text/html": [
              "\n",
              "     <input type=\"file\" id=\"files-ddf6a5de-30cd-4540-8086-3423e335bf85\" name=\"files[]\" multiple disabled />\n",
              "     <output id=\"result-ddf6a5de-30cd-4540-8086-3423e335bf85\">\n",
              "      Upload widget is only available when the cell has been executed in the\n",
              "      current browser session. Please rerun this cell to enable.\n",
              "      </output>\n",
              "      <script src=\"/nbextensions/google.colab/files.js\"></script> "
            ],
            "text/plain": [
              "<IPython.core.display.HTML object>"
            ]
          },
          "metadata": {
            "tags": []
          }
        },
        {
          "output_type": "stream",
          "text": [
            "Saving SP1.txt to SP1.txt\n"
          ],
          "name": "stdout"
        }
      ]
    },
    {
      "cell_type": "code",
      "metadata": {
        "ExecuteTime": {
          "end_time": "2020-01-22T22:44:23.005938Z",
          "start_time": "2020-01-22T22:44:15.668946Z"
        },
        "id": "QJSqohV0hxWt",
        "colab_type": "code",
        "colab": {}
      },
      "source": [
        "ocr = pd.read_csv('SP1.txt',index_col='timestamp_utc',sep='\\t')\n",
        "datetime = pd.to_datetime(ocr.index,dayfirst=False)\n",
        "ocr = ocr.set_index(datetime)\n",
        "mask_cols = ['porePressure_63cm_kPa','porePressure_113cm_kPa','porePressure_244cm_kPa']\n",
        "ocr[mask_cols] = ocr[mask_cols].mask(ocr[mask_cols] < -14)"
      ],
      "execution_count": 0,
      "outputs": []
    },
    {
      "cell_type": "code",
      "metadata": {
        "ExecuteTime": {
          "end_time": "2020-01-22T22:44:24.254337Z",
          "start_time": "2020-01-22T22:44:24.245279Z"
        },
        "id": "PxkQrrDHhxW3",
        "colab_type": "code",
        "colab": {}
      },
      "source": [
        "# set dates also as feature cols\n",
        "ocr['date'] = ocr.index.values.astype(float)"
      ],
      "execution_count": 0,
      "outputs": []
    },
    {
      "cell_type": "code",
      "metadata": {
        "ExecuteTime": {
          "end_time": "2020-01-22T22:46:28.112431Z",
          "start_time": "2020-01-22T22:44:24.712653Z"
        },
        "id": "lZD-bkK6hxW-",
        "colab_type": "code",
        "colab": {}
      },
      "source": [
        "# add in forecasted rainfall\n",
        "# this will take a while\n",
        "for i in range(2,38,2):\n",
        "  ocr = add_max_rainfall(ocr,i,0,noise=False)"
      ],
      "execution_count": 0,
      "outputs": []
    },
    {
      "cell_type": "code",
      "metadata": {
        "id": "Y8wGddL_qDe0",
        "colab_type": "code",
        "outputId": "ac0023ec-c247-4da3-916e-38a842a824c7",
        "colab": {
          "base_uri": "https://localhost:8080/",
          "height": 278
        }
      },
      "source": [
        "# look at all cols\n",
        "ocr.columns"
      ],
      "execution_count": 11,
      "outputs": [
        {
          "output_type": "execute_result",
          "data": {
            "text/plain": [
              "Index(['RG_mm', 'VWC_20cm', 'VWC_50cm', 'VWC_93cm', 'porePressure_63cm_kPa',\n",
              "       'porePressure_113cm_kPa', 'porePressure_244cm_kPa', 'date',\n",
              "       '2hr_total_rfall', '2hr_max_rfall', '4hr_total_rfall', '4hr_max_rfall',\n",
              "       '6hr_total_rfall', '6hr_max_rfall', '8hr_total_rfall', '8hr_max_rfall',\n",
              "       '10hr_total_rfall', '10hr_max_rfall', '12hr_total_rfall',\n",
              "       '12hr_max_rfall', '14hr_total_rfall', '14hr_max_rfall',\n",
              "       '16hr_total_rfall', '16hr_max_rfall', '18hr_total_rfall',\n",
              "       '18hr_max_rfall', '20hr_total_rfall', '20hr_max_rfall',\n",
              "       '22hr_total_rfall', '22hr_max_rfall', '24hr_total_rfall',\n",
              "       '24hr_max_rfall', '26hr_total_rfall', '26hr_max_rfall',\n",
              "       '28hr_total_rfall', '28hr_max_rfall', '30hr_total_rfall',\n",
              "       '30hr_max_rfall', '32hr_total_rfall', '32hr_max_rfall',\n",
              "       '34hr_total_rfall', '34hr_max_rfall', '36hr_total_rfall',\n",
              "       '36hr_max_rfall'],\n",
              "      dtype='object')"
            ]
          },
          "metadata": {
            "tags": []
          },
          "execution_count": 11
        }
      ]
    },
    {
      "cell_type": "code",
      "metadata": {
        "ExecuteTime": {
          "end_time": "2020-01-22T22:46:39.077801Z",
          "start_time": "2020-01-22T22:46:39.056890Z"
        },
        "id": "Rr8pofRihxXK",
        "colab_type": "code",
        "colab": {}
      },
      "source": [
        "# rearrange so we have all the feature cols as we want them\n",
        "ocr = ocr.loc[:,['date', 'RG_mm', '2hr_total_rfall', '2hr_max_rfall', '4hr_total_rfall', '4hr_max_rfall',\n",
        "       '6hr_total_rfall', '6hr_max_rfall', '8hr_total_rfall', '8hr_max_rfall',\n",
        "       '10hr_total_rfall', '10hr_max_rfall', '12hr_total_rfall',\n",
        "       '12hr_max_rfall', '14hr_total_rfall', '14hr_max_rfall',\n",
        "       '16hr_total_rfall', '16hr_max_rfall', '18hr_total_rfall',\n",
        "       '18hr_max_rfall', '20hr_total_rfall', '20hr_max_rfall',\n",
        "       '22hr_total_rfall', '22hr_max_rfall', '24hr_total_rfall',\n",
        "       '24hr_max_rfall', '26hr_total_rfall', '26hr_max_rfall',\n",
        "       '28hr_total_rfall', '28hr_max_rfall', '30hr_total_rfall',\n",
        "       '30hr_max_rfall', '32hr_total_rfall', '32hr_max_rfall',\n",
        "       '34hr_total_rfall', '34hr_max_rfall', '36hr_total_rfall',\n",
        "       '36hr_max_rfall', 'VWC_20cm', 'VWC_50cm', 'VWC_93cm',\n",
        "       'porePressure_63cm_kPa', 'porePressure_113cm_kPa',\n",
        "       'porePressure_244cm_kPa']]"
      ],
      "execution_count": 0,
      "outputs": []
    },
    {
      "cell_type": "code",
      "metadata": {
        "id": "iBsX0iUFe_f8",
        "colab_type": "code",
        "colab": {}
      },
      "source": [
        "# create a feature scaling object for use later\n",
        "data = ocr\n",
        "data_scaling = preprocessing.MinMaxScaler(feature_range=(0,1)).fit(data.iloc[:,:])\n",
        "data_scaled = pd.DataFrame(data_scaling.transform(data.iloc[:,:]),index=ocr.index)"
      ],
      "execution_count": 0,
      "outputs": []
    },
    {
      "cell_type": "code",
      "metadata": {
        "id": "s5rjKlIYqLxw",
        "colab_type": "code",
        "colab": {}
      },
      "source": [
        "# now create our features and targets\n",
        "all_features, all_targets, all_target_indices = lstm_prep(\n",
        "    ocr.index.values,ocr.values,3,36,36)"
      ],
      "execution_count": 0,
      "outputs": []
    },
    {
      "cell_type": "code",
      "metadata": {
        "id": "3WwcVVxB2qyf",
        "colab_type": "code",
        "colab": {}
      },
      "source": [
        "# set prediction intervals for each batch... this is useful for plotting later\n",
        "intervals = np.zeros(len(all_target_indices))\n",
        "for i in range(0,len(intervals),all_targets.shape[1]):\n",
        "    intervals[i]=1\n",
        "\n",
        "intervals[intervals==0] = np.nan\n",
        "\n",
        "binary_indices = np.copy(all_target_indices)\n",
        "\n",
        "for i in range(0,len(binary_indices),all_targets.shape[1]):\n",
        "    binary_indices[i]=np.datetime64(\"NaT\")"
      ],
      "execution_count": 0,
      "outputs": []
    },
    {
      "cell_type": "code",
      "metadata": {
        "id": "RiGTASUQCels",
        "colab_type": "code",
        "colab": {}
      },
      "source": [
        "def isolate_threshold_rainfall(feature_data,target_data,target_indices,rain_col,\n",
        "                               threshold_value):\n",
        "  \n",
        "  '''Sorts feature and target data based on \n",
        "  a user-specificed threshold. It returns 4 lists with \n",
        "  the above and below threshold values, respectively, in order:\n",
        "  feature, target, target indices (features have the index built in),\n",
        "  a list of the max rainfall from each positive batch, and the same for the \n",
        "  negative batches. The last two are just helpful for making the algorithm\n",
        "  correctly sorted based on a fixed threshold, i.e., the negatives only have\n",
        "  max values below the threshold.\n",
        "  \n",
        "  Input \"target_columns\" specifies the number of target features present,\n",
        "  and assumes these are placed as the last members of your feature data'''\n",
        "\n",
        "\n",
        "  # reshape 1D target indices to be in 'batch' form similar to features/targets\n",
        "  # every new row now corresponds to the n timesteps of each batch\n",
        "  target_indices_re = np.reshape(target_indices, (target_data.shape[0],\n",
        "                                                  target_data.shape[1]))\n",
        "  thresh_features = []\n",
        "  thresh_targets = []\n",
        "  arrays_to_delete = []\n",
        "  ppwp_indices = []\n",
        "  pthresh_list = []\n",
        "  nthresh_list = []\n",
        "\n",
        "  for batch in range(0,target_data.shape[0],1):\n",
        "    print('batch: '+str(batch))\n",
        "    target_array = target_data[batch,:,:]\n",
        "    \n",
        "    # create 'feature array' that just has the col of interest\n",
        "    feature_array = feature_data[batch,:,rain_col]\n",
        "\n",
        "    # get all values in the current array over threshold, if any\n",
        "    values_above_thresh = (feature_array[feature_array >= threshold_value])\n",
        "\n",
        "    if len(values_above_thresh) != 0:\n",
        "      print('values above thresh: '+ str(len(values_above_thresh)))\n",
        "      print('max: '+str(np.nanmax(feature_array)))\n",
        "      print('min: ' +str(np.nanmin(feature_array)))\n",
        "      pthresh_list.append(np.nanmax(feature_array))\n",
        "      #print(np.nanmax(feature_array))\n",
        "      #print(len(values_above_thresh))\n",
        "      # if we have positives, add that 'batch' to our new ppwp datasets\n",
        "      thresh_features.append(feature_data[batch,:,:])\n",
        "      thresh_targets.append(target_data[batch,:,:])\n",
        "      arrays_to_delete.append(batch)\n",
        "      ppwp_indices.append(target_indices_re[batch,:])\n",
        "      #print(\"values appended\")\n",
        "\n",
        "    else:\n",
        "      print('none above threshold')\n",
        "      #print('values above thresh: '+ str(len(values_above_thresh)))\n",
        "      nthresh_list.append(np.nanmax(feature_array))\n",
        "      #print('max: ' +str(np.nanmax(feature_array)))\n",
        "      #print('no threshold met')\n",
        "      continue\n",
        "  \n",
        "  # deleting indices no longer in feature/target data\n",
        "  npwp_indices = np.delete(target_indices_re,np.asarray(arrays_to_delete),0)\n",
        "\n",
        "  #reshaping to correct form for use later\n",
        "  npwp_indices_2d = npwp_indices.reshape(\n",
        "      npwp_indices.shape[0]*npwp_indices.shape[1])\n",
        "  \n",
        "  ppwp_indices = (np.asarray(ppwp_indices))\n",
        "\n",
        "  #same reshaping process\n",
        "  ppwp_indices_2d = ppwp_indices.reshape(\n",
        "      ppwp_indices.shape[0]*ppwp_indices.shape[1])\n",
        "  \n",
        "  # delete positive pressures from our dataset\n",
        "  feature_data_no_thresh = np.delete(feature_data, \n",
        "                                     np.asarray(arrays_to_delete),0)\n",
        "  target_data_no_thresh = np.delete(target_data, \n",
        "                                    np.asarray(arrays_to_delete),0)\n",
        "\n",
        "  # group items in list for simplicity\n",
        "  ppwp_items = [np.asarray(thresh_features), np.asarray(thresh_targets), \n",
        "          ppwp_indices_2d]\n",
        "  \n",
        "  npwp_items = [feature_data_no_thresh, target_data_no_thresh,\n",
        "                     npwp_indices_2d]\n",
        "                     \n",
        "\n",
        "  print('pthresh max: '+str(np.nanmax(pthresh_list)))\n",
        "  print('nthresh max: '+str(np.nanmax(nthresh_list)))\n",
        "  return ppwp_items, npwp_items, pthresh_list, nthresh_list"
      ],
      "execution_count": 0,
      "outputs": []
    },
    {
      "cell_type": "code",
      "metadata": {
        "id": "hKMBT2UZN6p7",
        "colab_type": "code",
        "colab": {}
      },
      "source": [
        "# create separate feature and target datasets, based on which target\n",
        "# sequences feature positive pore-water pressures\n",
        "ppwp_items, npwp_items, pthresh, nthresh = isolate_threshold_rainfall(all_features,all_targets,\n",
        "                                                    all_target_indices,-7,4)"
      ],
      "execution_count": 0,
      "outputs": []
    },
    {
      "cell_type": "code",
      "metadata": {
        "id": "aNgUDjgXn8O3",
        "colab_type": "code",
        "outputId": "6756a04b-a5e1-43c7-a8fe-28c0602e3d17",
        "colab": {
          "base_uri": "https://localhost:8080/",
          "height": 334
        }
      },
      "source": [
        "#plot histogram of max below 4mm threshold 36hr forecast... \n",
        "# correctly, there is nothing above the 4mm I specified\n",
        "plt.hist(nthresh)"
      ],
      "execution_count": 18,
      "outputs": [
        {
          "output_type": "execute_result",
          "data": {
            "text/plain": [
              "(array([235.,   8.,  91.,  16.,  10.,  59.,  22.,  69.,   3.,  11.]),\n",
              " array([0.   , 0.381, 0.762, 1.143, 1.524, 1.905, 2.286, 2.667, 3.048,\n",
              "        3.429, 3.81 ]),\n",
              " <a list of 10 Patch objects>)"
            ]
          },
          "metadata": {
            "tags": []
          },
          "execution_count": 18
        },
        {
          "output_type": "display_data",
          "data": {
            "image/png": "[encoded data removed]",
            "text/plain": [
              "<Figure size 432x288 with 1 Axes>"
            ]
          },
          "metadata": {
            "tags": [],
            "needs_background": "light"
          }
        }
      ]
    },
    {
      "cell_type": "code",
      "metadata": {
        "id": "ukhQy0xEyZjt",
        "colab_type": "code",
        "colab": {}
      },
      "source": [
        "ppwp_f, ppwp_t, ppwp_ti = ppwp_items\n",
        "npwp_f, npwp_t, npwp_ti = npwp_items"
      ],
      "execution_count": 0,
      "outputs": []
    },
    {
      "cell_type": "code",
      "metadata": {
        "id": "cj_Dcr6kxklk",
        "colab_type": "code",
        "colab": {}
      },
      "source": [
        "# now we temporarily reshape features to 2D arrays, just to rescale\n",
        "ppwp_f_re = np.reshape(ppwp_f,(ppwp_f.shape[0]*ppwp_f.shape[1],ppwp_f.shape[2]))\n",
        "ppwp_f_index = pd.to_datetime(ppwp_f_re[:,0]) # track feature index for convenience\n",
        "\n",
        "#scale\n",
        "ppwp_f_scaled = pd.DataFrame(data_scaling.transform(ppwp_f_re),index=ppwp_f_index)\n",
        "ppwp_f_scaled_fna = ppwp_f_scaled.fillna(-1)\n",
        "\n",
        "\n",
        "# same thing as above for negative pressures\n",
        "npwp_f_re = np.reshape(npwp_f,(npwp_f.shape[0]*npwp_f.shape[1],npwp_f.shape[2]))\n",
        "npwp_f_index = pd.to_datetime(npwp_f_re[:,0]) # feature index for below threshold\n",
        "npwp_f_scaled = pd.DataFrame(data_scaling.transform(npwp_f_re),index=npwp_f_index)\n",
        "npwp_f_scaled_fna = npwp_f_scaled.fillna(-1)\n",
        "\n",
        "# shape back into 3D\n",
        "# yes, this is repetitive\n",
        "ppwp_f_scaled_re = np.reshape(ppwp_f_scaled_fna.values,\n",
        "                              (ppwp_f.shape[0],ppwp_f.shape[1],ppwp_f.shape[2]))\n",
        "\n",
        "npwp_f_scaled_re = np.reshape(npwp_f_scaled_fna.values,\n",
        "                              (npwp_f.shape[0],npwp_f.shape[1],npwp_f.shape[2]))"
      ],
      "execution_count": 0,
      "outputs": []
    },
    {
      "cell_type": "code",
      "metadata": {
        "id": "1zrpDMIX4asz",
        "colab_type": "code",
        "outputId": "1840363c-132c-4952-d1e0-cd313368808c",
        "colab": {
          "base_uri": "https://localhost:8080/",
          "height": 304
        }
      },
      "source": [
        "# as final check... let's look at the 36hr_max_rfall \n",
        "# upon which we base our thresholds for all the feature data\n",
        "# notice our trianing data has all forecasts below 4mm.\n",
        "print(np.nanmax(ocr.loc[npwp_f_index,'36hr_max_rfall']))\n",
        "plt.scatter(npwp_f_index,(ocr.loc[npwp_f_index,'36hr_max_rfall']))"
      ],
      "execution_count": 21,
      "outputs": [
        {
          "output_type": "stream",
          "text": [
            "3.81\n"
          ],
          "name": "stdout"
        },
        {
          "output_type": "execute_result",
          "data": {
            "text/plain": [
              "<matplotlib.collections.PathCollection at 0x7f3b8a30ee80>"
            ]
          },
          "metadata": {
            "tags": []
          },
          "execution_count": 21
        },
        {
          "output_type": "display_data",
          "data": {
            "image/png": "[encoded data removed]",
            "text/plain": [
              "<Figure size 432x288 with 1 Axes>"
            ]
          },
          "metadata": {
            "tags": [],
            "needs_background": "light"
          }
        }
      ]
    },
    {
      "cell_type": "code",
      "metadata": {
        "ExecuteTime": {
          "end_time": "2020-01-22T22:46:56.876575Z",
          "start_time": "2020-01-22T22:46:56.866142Z"
        },
        "id": "TcF5iy_yhxX3",
        "colab_type": "code",
        "colab": {}
      },
      "source": [
        "# this is a bit of an arbitrary split\n",
        "# mostly lets just see how well the model performs on below threshold data\n",
        "split = 0.7\n",
        "train_features = npwp_f_scaled_re[:int((len(npwp_f_scaled_re)*split))]\n",
        "test_features = npwp_f_scaled_re[int((len(npwp_f_scaled_re)*split)):]\n",
        "\n",
        "train_targets = npwp_t[:int((len(npwp_f_scaled_re)*split))]\n",
        "test_targets = npwp_t[int((len(npwp_f_scaled_re)*split)):]\n",
        "test_indices = npwp_ti[-test_targets.shape[0]*test_targets.shape[1]:]"
      ],
      "execution_count": 0,
      "outputs": []
    },
    {
      "cell_type": "markdown",
      "metadata": {
        "id": "5HXXTCQGhxYn",
        "colab_type": "text"
      },
      "source": [
        "Create our Encoder:"
      ]
    },
    {
      "cell_type": "code",
      "metadata": {
        "ExecuteTime": {
          "end_time": "2020-01-22T22:23:22.261323Z",
          "start_time": "2020-01-22T22:23:18.861Z"
        },
        "id": "pMTItD5khxYq",
        "colab_type": "code",
        "colab": {}
      },
      "source": [
        "# Define an input shape. This is the tensor shape our model expects from now on.\n",
        "# This is essential for a stateful model\n",
        "batch = None\n",
        "n_units = 36\n",
        "\n",
        "encoder_inputs = Input(batch_input_shape=(batch,train_features.shape[1],train_features.shape[2]))\n",
        "\n",
        "encoder_lstm = LSTM(n_units, return_state=True,stateful=False,return_sequences=True) # define encoder\n",
        "\n",
        "# connect encoding layer to our inputs, return all states\n",
        "encoder_outputs, state_h, state_c = encoder_lstm(encoder_inputs) \n",
        "\n",
        "encoder_states = [state_h, state_c]"
      ],
      "execution_count": 0,
      "outputs": []
    },
    {
      "cell_type": "code",
      "metadata": {
        "id": "6sbuXWxUzVhZ",
        "colab_type": "code",
        "colab": {}
      },
      "source": [
        "encoder_lstm = Bidirectional(LSTM(units=n_units, return_sequences=True, return_state=True)) # Bidirectional\n",
        "encoder_outputs, fstate_h, fstate_c, bstate_h, bstate_c = encoder_lstm((encoder_inputs))\n",
        "state_h = Concatenate()([fstate_h,bstate_h])\n",
        "state_c = Concatenate()([bstate_h,bstate_c])\n",
        "\n",
        "encoder_states = [state_h, state_c]"
      ],
      "execution_count": 0,
      "outputs": []
    },
    {
      "cell_type": "markdown",
      "metadata": {
        "id": "Y-tsdAwfhxYy",
        "colab_type": "text"
      },
      "source": [
        "Create Decoder:"
      ]
    },
    {
      "cell_type": "code",
      "metadata": {
        "ExecuteTime": {
          "end_time": "2020-01-22T22:23:22.264487Z",
          "start_time": "2020-01-22T22:23:18.867Z"
        },
        "id": "pPbHH3lVhxY1",
        "colab_type": "code",
        "colab": {}
      },
      "source": [
        "# Define inputs to the decoder.\n",
        "decoder_inputs = Input(batch_input_shape=(batch,None,train_targets.shape[2]))\n",
        "#decoder_inputs = Input(batch_shape=(batch,features.shape[1],features.shape[2]))\n",
        "\n",
        "#decoder_inputs = Input(batch_shape=(batch,None,train_targets.shape[2]))\n",
        "#dec_input = np.zeros((train_features.shape[0],train_targets.shape[1],train_features.shape[2]))\n",
        "\n",
        "\n",
        "# Create Decoder...\n",
        "decoder_lstm = (LSTM(n_units, return_state=True, return_sequences=True,stateful=False))\n",
        "# Important step: connect Decoder to our input layers and use the hidden and cell states \n",
        "# from the encoder to instantiate this layer\n",
        "\n",
        "decoder_outputs, _, _ = decoder_lstm(decoder_inputs, initial_state=[state_h, state_c])\n",
        "\n",
        "#create attention layer\n",
        "# ----------------------\n",
        "attention = dot([decoder_outputs, encoder_outputs], axes=[2, 2])\n",
        "attention = Activation('softmax')(attention)\n",
        "\n",
        "context = dot([attention, encoder_outputs], axes=[2,1])\n",
        "decoder_combined_context = concatenate([context, decoder_outputs])\n",
        "# ----------------------\n",
        "\n",
        "decoder_dense1 = (Dense(150, activation='tanh'))\n",
        "dropout = Dropout(0.5)\n",
        "decoder_dense2 = Dense(train_targets.shape[2],activation='linear')\n",
        "\n",
        "dense1 = decoder_dense1(decoder_combined_context)\n",
        "drop = dropout(dense1)\n",
        "\n",
        "decoder_outputs = decoder_dense2(drop)"
      ],
      "execution_count": 0,
      "outputs": []
    },
    {
      "cell_type": "code",
      "metadata": {
        "ExecuteTime": {
          "end_time": "2020-01-22T22:23:22.268016Z",
          "start_time": "2020-01-22T22:23:18.869Z"
        },
        "id": "l6mSzUxvhxY9",
        "colab_type": "code",
        "colab": {}
      },
      "source": [
        "model = Model(inputs=[encoder_inputs, decoder_inputs], outputs=decoder_outputs)\n",
        "\n",
        "model.compile(optimizer='adam',\n",
        "             loss=mse_nan,\n",
        "             metrics=[mse_nan])"
      ],
      "execution_count": 0,
      "outputs": []
    },
    {
      "cell_type": "code",
      "metadata": {
        "ExecuteTime": {
          "end_time": "2020-01-22T22:23:22.271537Z",
          "start_time": "2020-01-22T22:23:18.885Z"
        },
        "id": "ntiMsXovhxZE",
        "colab_type": "code",
        "outputId": "f4746eb9-5d54-4033-cf7f-dcfdd3d406f7",
        "colab": {
          "base_uri": "https://localhost:8080/",
          "height": 625
        }
      },
      "source": [
        "model.summary()"
      ],
      "execution_count": 30,
      "outputs": [
        {
          "output_type": "stream",
          "text": [
            "Model: \"model\"\n",
            "__________________________________________________________________________________________________\n",
            "Layer (type)                    Output Shape         Param #     Connected to                     \n",
            "==================================================================================================\n",
            "input_2 (InputLayer)            [(None, 36, 44)]     0                                            \n",
            "__________________________________________________________________________________________________\n",
            "input_3 (InputLayer)            [(None, None, 3)]    0                                            \n",
            "__________________________________________________________________________________________________\n",
            "lstm_3 (LSTM)                   [(None, 36, 36), (No 11664       input_2[0][0]                    \n",
            "__________________________________________________________________________________________________\n",
            "lstm_4 (LSTM)                   [(None, None, 36), ( 5760        input_3[0][0]                    \n",
            "                                                                 lstm_3[0][1]                     \n",
            "                                                                 lstm_3[0][2]                     \n",
            "__________________________________________________________________________________________________\n",
            "dot (Dot)                       (None, None, 36)     0           lstm_4[0][0]                     \n",
            "                                                                 lstm_3[0][0]                     \n",
            "__________________________________________________________________________________________________\n",
            "activation (Activation)         (None, None, 36)     0           dot[0][0]                        \n",
            "__________________________________________________________________________________________________\n",
            "dot_1 (Dot)                     (None, None, 36)     0           activation[0][0]                 \n",
            "                                                                 lstm_3[0][0]                     \n",
            "__________________________________________________________________________________________________\n",
            "concatenate_4 (Concatenate)     (None, None, 72)     0           dot_1[0][0]                      \n",
            "                                                                 lstm_4[0][0]                     \n",
            "__________________________________________________________________________________________________\n",
            "dense (Dense)                   (None, None, 150)    10950       concatenate_4[0][0]              \n",
            "__________________________________________________________________________________________________\n",
            "dropout (Dropout)               (None, None, 150)    0           dense[0][0]                      \n",
            "__________________________________________________________________________________________________\n",
            "dense_1 (Dense)                 (None, None, 3)      453         dropout[0][0]                    \n",
            "==================================================================================================\n",
            "Total params: 28,827\n",
            "Trainable params: 28,827\n",
            "Non-trainable params: 0\n",
            "__________________________________________________________________________________________________\n"
          ],
          "name": "stdout"
        }
      ]
    },
    {
      "cell_type": "code",
      "metadata": {
        "ExecuteTime": {
          "end_time": "2020-01-22T22:23:22.274823Z",
          "start_time": "2020-01-22T22:23:18.889Z"
        },
        "id": "s-a_AnSthxZQ",
        "colab_type": "code",
        "colab": {}
      },
      "source": [
        "#define inference ('inf') model:\n",
        "encoder_model = Model(encoder_inputs, [encoder_outputs,encoder_states]) \n",
        "# ^^^ set up a separate encoding model. This just outputs our encoder states\n",
        "\n",
        "inf_encoder_outputs, inf_encoder_states = encoder_model(encoder_inputs)\n",
        "\n",
        "decoder_state_input_h = Input(shape=(n_units,)) # define shape of hidden state\n",
        "decoder_state_input_c = Input(shape=(n_units,)) # same thing here for cell state\n",
        "decoder_states_inputs = [decoder_state_input_h, decoder_state_input_c]\n",
        "# ^^^ set as state shapes, which tells our decoder to accepts inputs states of the specificed size\n",
        "\n",
        "# create our decoding layer. accepts same shape as decoder inputs and encoder states\n",
        "inf_decoder_outputs, inf_state_h, inf_state_c = decoder_lstm(decoder_inputs, initial_state=decoder_states_inputs)\n",
        "\n",
        "# save decoder output states. We'll use these as the input states for our decoder for predicting each next timestep\n",
        "# after the initial input of our encoder states\n",
        "decoder_states = [inf_state_h, inf_state_c]\n",
        "\n",
        "inf_attention = dot([inf_decoder_outputs, inf_encoder_outputs], axes=[2, 2])\n",
        "inf_attention = Activation('softmax')(inf_attention)\n",
        "\n",
        "inf_context = dot([inf_attention, inf_encoder_outputs], axes=[2,1])\n",
        "inf_decoder_combined_context = concatenate([inf_context, inf_decoder_outputs])\n",
        "\n",
        "\n",
        "inf_dense1 = decoder_dense1(inf_decoder_combined_context)\n",
        "inf_drop = dropout(inf_dense1)\n",
        "\n",
        "inf_final_outputs = decoder_dense2(inf_drop)\n",
        "# finally, instantiate our decoder model. Inputs are the original sequence + the encoder states. \n",
        "# outputs: sequence prediction + the states used for the decoder\n",
        "decoder_model = Model([encoder_inputs,decoder_inputs] + decoder_states_inputs, [inf_final_outputs]+decoder_states)"
      ],
      "execution_count": 0,
      "outputs": []
    },
    {
      "cell_type": "code",
      "metadata": {
        "ExecuteTime": {
          "end_time": "2020-01-22T22:23:22.277273Z",
          "start_time": "2020-01-22T22:23:18.894Z"
        },
        "id": "sZvx8u6VhxZV",
        "colab_type": "code",
        "outputId": "46bcf4d7-e7cc-4c95-8db7-e4ee92cb699f",
        "colab": {
          "base_uri": "https://localhost:8080/",
          "height": 694
        }
      },
      "source": [
        "decoder_model.summary()"
      ],
      "execution_count": 32,
      "outputs": [
        {
          "output_type": "stream",
          "text": [
            "Model: \"model_2\"\n",
            "__________________________________________________________________________________________________\n",
            "Layer (type)                    Output Shape         Param #     Connected to                     \n",
            "==================================================================================================\n",
            "input_3 (InputLayer)            [(None, None, 3)]    0                                            \n",
            "__________________________________________________________________________________________________\n",
            "input_4 (InputLayer)            [(None, 36)]         0                                            \n",
            "__________________________________________________________________________________________________\n",
            "input_5 (InputLayer)            [(None, 36)]         0                                            \n",
            "__________________________________________________________________________________________________\n",
            "input_2 (InputLayer)            [(None, 36, 44)]     0                                            \n",
            "__________________________________________________________________________________________________\n",
            "lstm_4 (LSTM)                   [(None, None, 36), ( 5760        input_3[0][0]                    \n",
            "                                                                 input_4[0][0]                    \n",
            "                                                                 input_5[0][0]                    \n",
            "__________________________________________________________________________________________________\n",
            "model_1 (Model)                 [(None, 36, 36), [(N 11664       input_2[0][0]                    \n",
            "__________________________________________________________________________________________________\n",
            "dot_2 (Dot)                     (None, None, 36)     0           lstm_4[1][0]                     \n",
            "                                                                 model_1[1][0]                    \n",
            "__________________________________________________________________________________________________\n",
            "activation_1 (Activation)       (None, None, 36)     0           dot_2[0][0]                      \n",
            "__________________________________________________________________________________________________\n",
            "dot_3 (Dot)                     (None, None, 36)     0           activation_1[0][0]               \n",
            "                                                                 model_1[1][0]                    \n",
            "__________________________________________________________________________________________________\n",
            "concatenate_5 (Concatenate)     (None, None, 72)     0           dot_3[0][0]                      \n",
            "                                                                 lstm_4[1][0]                     \n",
            "__________________________________________________________________________________________________\n",
            "dense (Dense)                   (None, None, 150)    10950       concatenate_5[0][0]              \n",
            "__________________________________________________________________________________________________\n",
            "dropout (Dropout)               (None, None, 150)    0           dense[1][0]                      \n",
            "__________________________________________________________________________________________________\n",
            "dense_1 (Dense)                 (None, None, 3)      453         dropout[1][0]                    \n",
            "==================================================================================================\n",
            "Total params: 28,827\n",
            "Trainable params: 28,827\n",
            "Non-trainable params: 0\n",
            "__________________________________________________________________________________________________\n"
          ],
          "name": "stdout"
        }
      ]
    },
    {
      "cell_type": "code",
      "metadata": {
        "ExecuteTime": {
          "end_time": "2020-01-22T22:58:37.863377Z",
          "start_time": "2020-01-22T22:58:37.793834Z"
        },
        "id": "JBzLqzyqhxZd",
        "colab_type": "code",
        "colab": {}
      },
      "source": [
        "# Let's define a small function that predicts based on the trained encoder and decoder models\n",
        "# Function adapted from https://github.com/LukeTonin/keras-seq-2-seq-signal-prediction\n",
        "def predict(x, encoder_predict_model, decoder_predict_model, num_steps_to_predict, \n",
        "            num_features_to_predict, batch_size=None):\n",
        "    \"\"\"Predict time series with encoder-decoder.\n",
        "    \n",
        "    Uses the encoder and decoder models previously trained to predict the next\n",
        "    num_steps_to_predict values of the time series.\n",
        "    \n",
        "    Arguments\n",
        "    ---------\n",
        "    x: input time series of shape (batch_size, input_sequence_length, input_dimension).\n",
        "    encoder_predict_model: The Keras encoder model.\n",
        "    decoder_predict_model: The Keras decoder model.\n",
        "    num_steps_to_predict: The number of steps in the future to predict\n",
        "    num_features_to_predict: The number of features we want to predict per timestep\n",
        "    \n",
        "    Returns\n",
        "    -------\n",
        "    y_predicted: output time series for shape (batch_size, target_sequence_length,\n",
        "        ouput_dimension)\n",
        "    \"\"\"\n",
        "    y_predicted = []\n",
        "\n",
        "    # Encode the values as a state vector\n",
        "    enc_outputs_and_states = encoder_predict_model.predict(x,batch_size=batch)\n",
        "    #print(len(enc_outputs_and_states))\n",
        "\n",
        "    # The states must be a list\n",
        "    if not isinstance(enc_outputs_and_states, list):\n",
        "        enc_outputs_and_states = [enc_outputs_and_states]\n",
        "\n",
        "    enc_outputs = enc_outputs_and_states[0]\n",
        "    states = enc_outputs_and_states[1:]\n",
        "    #decoder_input = np.zeros((x.shape[0], 1, num_features_to_predict))\n",
        "    decoder_input = x[:,-1:,-num_features_to_predict:] \n",
        "    # '-num_features_to_predict:' assumes the targets are the final columns\n",
        "\n",
        "    for _ in range(num_steps_to_predict):\n",
        "        outputs_and_states = decoder_predict_model.predict(\n",
        "        [x, decoder_input] + states, batch_size=batch)\n",
        "        output = outputs_and_states[0]\n",
        "        states = outputs_and_states[1:]\n",
        "\n",
        "        # add predicted value\n",
        "        y_predicted.append(output)\n",
        "        #decoder_input = output\n",
        "\n",
        "    return np.concatenate(y_predicted, axis=1)\n",
        "    "
      ],
      "execution_count": 0,
      "outputs": []
    },
    {
      "cell_type": "code",
      "metadata": {
        "ExecuteTime": {
          "end_time": "2020-01-22T22:23:35.172641Z",
          "start_time": "2020-01-22T22:23:30.880461Z"
        },
        "scrolled": true,
        "id": "1NQ4kvBRhxZi",
        "colab_type": "code",
        "colab": {}
      },
      "source": [
        "for i in range(1000):\n",
        "    print('epoch: '+str(i))\n",
        "    model.fit([train_features,train_features[:,-36:,-3:]], train_targets, \n",
        "              epochs=1, batch_size=100, verbose=1, shuffle=True)\n",
        "    #model.reset_states()"
      ],
      "execution_count": 0,
      "outputs": []
    },
    {
      "cell_type": "markdown",
      "metadata": {
        "id": "aAwzmwcEhxZu",
        "colab_type": "text"
      },
      "source": [
        "Evaluate Model"
      ]
    },
    {
      "cell_type": "code",
      "metadata": {
        "id": "D6hNToaQ66SJ",
        "colab_type": "code",
        "colab": {}
      },
      "source": [
        "npwp_predictions = predict(test_features, encoder_model, decoder_model, \n",
        "                      num_steps_to_predict=train_targets.shape[1], num_features_to_predict=train_targets.shape[2],\n",
        "                     batch_size=batch)"
      ],
      "execution_count": 0,
      "outputs": []
    },
    {
      "cell_type": "code",
      "metadata": {
        "ExecuteTime": {
          "end_time": "2020-01-22T22:58:52.756325Z",
          "start_time": "2020-01-22T22:58:51.031435Z"
        },
        "id": "DM5l6E8YhxZ7",
        "colab_type": "code",
        "colab": {}
      },
      "source": [
        "ppwp_predictions = predict(ppwp_f_scaled_re, encoder_model, decoder_model, \n",
        "                      num_steps_to_predict=train_targets.shape[1], num_features_to_predict=train_targets.shape[2],\n",
        "                     batch_size=batch)"
      ],
      "execution_count": 0,
      "outputs": []
    },
    {
      "cell_type": "code",
      "metadata": {
        "id": "J_p3NFPPeeOi",
        "colab_type": "code",
        "colab": {}
      },
      "source": [
        "ppwp_preds = pd.DataFrame(\n",
        "    np.reshape(ppwp_predictions,(ppwp_predictions.shape[0]*ppwp_predictions.shape[1],\n",
        "                                 ppwp_predictions.shape[2])),index=ppwp_ti)\n",
        "ppwp_tests = pd.DataFrame(np.reshape(ppwp_t,(ppwp_t.shape[0]*ppwp_t.shape[1],ppwp_t.shape[2])),index=ppwp_ti)\n",
        "\n",
        "npwp_preds = pd.DataFrame(\n",
        "    np.reshape(npwp_predictions,(npwp_predictions.shape[0]*npwp_predictions.shape[1],\n",
        "                                 npwp_predictions.shape[2])),index=test_indices)\n",
        "npwp_tests = pd.DataFrame(np.reshape(test_targets,(test_targets.shape[0]*\n",
        "                                      test_targets.shape[1],test_targets.shape[2])),index=test_indices)"
      ],
      "execution_count": 0,
      "outputs": []
    },
    {
      "cell_type": "code",
      "metadata": {
        "id": "1A4W4mvJxrvt",
        "colab_type": "code",
        "colab": {}
      },
      "source": [
        "npwp_ti_reshape = npwp_ti.reshape(npwp_t.shape[0],npwp_t.shape[1])\n",
        "ppwp_ti_reshape = ppwp_ti.reshape(ppwp_t.shape[0],ppwp_t.shape[1])"
      ],
      "execution_count": 0,
      "outputs": []
    },
    {
      "cell_type": "code",
      "metadata": {
        "id": "dhQHdkqhBUdA",
        "colab_type": "code",
        "outputId": "37f08581-f439-4133-ac9b-100461bc2008",
        "colab": {
          "base_uri": "https://localhost:8080/",
          "height": 645
        }
      },
      "source": [
        "import matplotlib.lines as mlines\n",
        "col_list = ['Pore Water Pressures - 63cm',\n",
        "       'Pore Water Pressures - 113cm', 'Pore Water Pressures - 244cm']\n",
        "fig, ax = plt.subplots(3,1,figsize=(8,10),sharex=True)\n",
        "i = 1\n",
        "for col in col_list:\n",
        "    while i < (len(col_list)+1):\n",
        "      ax1 = ax[i-1]\n",
        "\n",
        "      for batch in range(0,npwp_t.shape[0],1):\n",
        "        ax1.plot(npwp_ti_reshape[batch,:],npwp_t[batch,:,i-1], \n",
        "                 label='Training Data',c='lightslategray',linestyle='--',alpha=1)\n",
        "        #ax1.plot(test_indices_reshape[batch,:],test_targets[batch,:,i-1], \n",
        "         #        label='test n',c='slategray',linestyle='--',alpha=1)\n",
        "       \n",
        "        #ax1.plot(test_indices_reshape[batch,:],npwp_predictions[batch,:,i-1], label='pred',c='b')\n",
        "      ax1.scatter(all_target_indices,intervals,c='k',marker='|',s=35,alpha=0.5)\n",
        "\n",
        "      for batch in range(0,ppwp_t.shape[0],1):\n",
        "        ax1.plot(ppwp_ti_reshape[batch,:],ppwp_t[batch,:,i-1], label='test p',c='darkslategrey')\n",
        "        ax1.plot(ppwp_ti_reshape[batch,:],ppwp_predictions[batch,:,i-1], label='pred p',c='indianred')\n",
        "      ax1.set_xlim(pd.to_datetime('2012-01-14'),pd.to_datetime('2012-02-14'))\n",
        "      for tick in ax1.get_xticklabels():\n",
        "        tick.set_rotation(45)\n",
        "      ax1.set_ylim(-9,3.5)\n",
        "      #ax1.set_ylabel('Suction (kPa)')\n",
        "\n",
        "      \n",
        "      color = 'royalblue'\n",
        "      ax2 = ax1.twinx()\n",
        "      #ax2.bar(ocr.index[:],ocr.iloc[:,1],width=0.2,color=color,alpha=0.7)\n",
        "      ax2.tick_params(axis='y', labelcolor=color)\n",
        "      ax2.set_ylim(0.8,14)\n",
        "      #ax2.set_ylabel('Rainfall (mm)', color=color)\n",
        "      ax2.axhline(y=4,color='k',linestyle='dotted',alpha=0.5)\n",
        "      \n",
        "      red_line = mlines.Line2D([], [], color='indianred', marker='',\n",
        "                          markersize=15, label='Predictions')\n",
        "      dashed_line = mlines.Line2D([], [], color='lightslategrey', marker='',\n",
        "                          markersize=15, label='Training Data',linestyle='--')\n",
        "      solid_line = mlines.Line2D([], [], color='darkslategrey', marker='',\n",
        "                          markersize=15, label='Test Data',linestyle='-')\n",
        "      vert = mlines.Line2D([], [], color='k', marker='|',\n",
        "                          markersize=15, label='Prediction Interval (36hr)',\n",
        "                           alpha=0.5)\n",
        "      vert.set_linestyle('')\n",
        "\n",
        "      fsize = 12\n",
        "      plt.setp(ax1.get_xticklabels(), fontsize=fsize)\n",
        "      plt.setp(ax1.get_yticklabels(), fontsize=fsize)\n",
        "      plt.setp(ax2.get_yticklabels(), fontsize=fsize)\n",
        "\n",
        "      if i ==1:\n",
        "          plt.legend(handles=[red_line,dashed_line,solid_line,vert],loc='upper center',\n",
        "                     fontsize='small',bbox_to_anchor=(0.51,1.01),ncol=4,\n",
        "                     markerscale=0.45,frameon=False)\n",
        "          #plt.title(('Soil Matric Potential'))\n",
        "      \n",
        "      \n",
        "      i = i+1\n",
        "\n",
        "#handles, labels = ax1.get_legend_handles_labels()\n",
        "#fig.legend(handles, labels, loc='upper center')\n",
        "plt.subplots_adjust(hspace=0.1)\n",
        "#plt.tight_layout()\n",
        "#plt.savefig('36hr_48_d150_drop5_mask4mm_JF.svg',dpi=300)\n",
        "plt.show()"
      ],
      "execution_count": 57,
      "outputs": [
        {
          "output_type": "display_data",
          "data": {
            "image/png": "[encoded data removed]",
            "text/plain": [
              "<Figure size 576x720 with 6 Axes>"
            ]
          },
          "metadata": {
            "tags": [],
            "needs_background": "light"
          }
        }
      ]
    },
    {
      "cell_type": "code",
      "metadata": {
        "id": "1Z3-UsKc6v27",
        "colab_type": "code",
        "colab": {}
      },
      "source": [
        ""
      ],
      "execution_count": 0,
      "outputs": []
    }
  ]
}
